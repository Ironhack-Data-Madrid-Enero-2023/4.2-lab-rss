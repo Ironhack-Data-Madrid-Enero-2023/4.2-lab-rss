{
 "cells": [
  {
   "cell_type": "markdown",
   "metadata": {},
   "source": [
    "# Working with RSS Feeds Lab\n",
    "\n",
    "Complete the following set of exercises to solidify your knowledge of parsing RSS feeds and extracting information from them."
   ]
  },
  {
   "cell_type": "code",
   "execution_count": 4,
   "metadata": {},
   "outputs": [],
   "source": [
    "#%pip install feedparser\n",
    "import feedparser"
   ]
  },
  {
   "cell_type": "markdown",
   "metadata": {},
   "source": [
    "### 1. Use feedparser to parse the following RSS feed URL."
   ]
  },
  {
   "cell_type": "code",
   "execution_count": 5,
   "metadata": {},
   "outputs": [],
   "source": [
    "feeds = feedparser.parse('http://feeds.feedburner.com/oreilly/radar/atom')"
   ]
  },
  {
   "cell_type": "code",
   "execution_count": 38,
   "metadata": {},
   "outputs": [
    {
     "data": {
      "text/plain": [
       "11"
      ]
     },
     "execution_count": 38,
     "metadata": {},
     "output_type": "execute_result"
    }
   ],
   "source": [
    "len(feeds)"
   ]
  },
  {
   "cell_type": "markdown",
   "metadata": {},
   "source": [
    "### 2. Obtain a list of components (keys) that are available for this feed."
   ]
  },
  {
   "cell_type": "code",
   "execution_count": 14,
   "metadata": {},
   "outputs": [
    {
     "name": "stdout",
     "output_type": "stream",
     "text": [
      "['bozo', 'entries', 'feed', 'headers', 'updated', 'updated_parsed', 'href', 'status', 'encoding', 'version', 'namespaces']\n"
     ]
    }
   ],
   "source": [
    "lst1 = list(feeds.keys())\n",
    "print(lst1)"
   ]
  },
  {
   "cell_type": "markdown",
   "metadata": {},
   "source": [
    "### 3. Obtain a list of components (keys) that are available for the *feed* component of this RSS feed."
   ]
  },
  {
   "cell_type": "code",
   "execution_count": 20,
   "metadata": {},
   "outputs": [
    {
     "name": "stdout",
     "output_type": "stream",
     "text": [
      "['title', 'title_detail', 'links', 'link', 'subtitle', 'subtitle_detail', 'updated', 'updated_parsed', 'language', 'sy_updateperiod', 'sy_updatefrequency', 'generator_detail', 'generator']\n"
     ]
    }
   ],
   "source": [
    "lst2 = list(feeds['feed'].keys())\n",
    "print(lst2)"
   ]
  },
  {
   "cell_type": "markdown",
   "metadata": {},
   "source": [
    "### 4. Extract and print the feed title, subtitle, author, and link."
   ]
  },
  {
   "cell_type": "code",
   "execution_count": 51,
   "metadata": {},
   "outputs": [
    {
     "data": {
      "text/plain": [
       "[{'title': 'Radar',\n",
       "  'subtitle': 'Now, next, and beyond: Tracking need-to-know trends at the intersection of business and technology',\n",
       "  'link': 'https://www.oreilly.com/radar'},\n",
       " {'title': 'Radar',\n",
       "  'subtitle': 'Now, next, and beyond: Tracking need-to-know trends at the intersection of business and technology',\n",
       "  'link': 'https://www.oreilly.com/radar'},\n",
       " {'title': 'Radar',\n",
       "  'subtitle': 'Now, next, and beyond: Tracking need-to-know trends at the intersection of business and technology',\n",
       "  'link': 'https://www.oreilly.com/radar'}]"
      ]
     },
     "execution_count": 51,
     "metadata": {},
     "output_type": "execute_result"
    }
   ],
   "source": [
    "lst3 = []\n",
    "\n",
    "for e in feeds['feed']:\n",
    "    title = feeds['feed']['title']\n",
    "    subtitle = feeds['feed']['subtitle']\n",
    "    link = feeds['feed']['link']\n",
    "\n",
    "    lst3.append({'title' : title, 'subtitle': subtitle, 'link':link})\n",
    "\n",
    "lst3[:3]"
   ]
  },
  {
   "cell_type": "code",
   "execution_count": 47,
   "metadata": {},
   "outputs": [],
   "source": [
    "title = feeds['feed']['title']\n",
    "subtitle = feeds['feed']['subtitle']\n",
    "link = feeds['feed']['link']"
   ]
  },
  {
   "cell_type": "code",
   "execution_count": 48,
   "metadata": {},
   "outputs": [
    {
     "name": "stdout",
     "output_type": "stream",
     "text": [
      "Radar\n",
      "Now, next, and beyond: Tracking need-to-know trends at the intersection of business and technology\n",
      "https://www.oreilly.com/radar\n"
     ]
    }
   ],
   "source": [
    "print(title)\n",
    "print(subtitle)\n",
    "print(link)"
   ]
  },
  {
   "cell_type": "markdown",
   "metadata": {},
   "source": [
    "### 5. Count the number of entries that are contained in this RSS feed."
   ]
  },
  {
   "cell_type": "code",
   "execution_count": 44,
   "metadata": {},
   "outputs": [
    {
     "data": {
      "text/plain": [
       "13"
      ]
     },
     "execution_count": 44,
     "metadata": {},
     "output_type": "execute_result"
    }
   ],
   "source": [
    "len(feeds['feed'])"
   ]
  },
  {
   "cell_type": "markdown",
   "metadata": {},
   "source": [
    "### 6. Obtain a list of components (keys) available for an entry.\n",
    "\n",
    "*Hint: Remember to index first before requesting the keys*"
   ]
  },
  {
   "cell_type": "code",
   "execution_count": 56,
   "metadata": {},
   "outputs": [
    {
     "data": {
      "text/plain": [
       "['type', 'language', 'base', 'value']"
      ]
     },
     "execution_count": 56,
     "metadata": {},
     "output_type": "execute_result"
    }
   ],
   "source": [
    "lst4 = list(feeds['feed']['title_detail'].keys())\n",
    "lst4"
   ]
  },
  {
   "cell_type": "markdown",
   "metadata": {},
   "source": [
    "### 7. Extract a list of entry titles."
   ]
  },
  {
   "cell_type": "code",
   "execution_count": 81,
   "metadata": {},
   "outputs": [
    {
     "data": {
      "text/plain": [
       "['Automating the Automators: Shift Change in the Robot Factory',\n",
       " 'Digesting 2022',\n",
       " 'Radar Trends to Watch: January 2023',\n",
       " 'What Does Copyright Say about Generative Models?',\n",
       " 'Radar Trends to Watch: December 2022',\n",
       " 'AI’s ‘SolarWinds Moment’ Will Occur; It’s Just a Matter of When',\n",
       " 'Technical Health Isn’t Optional',\n",
       " 'Healthy Data',\n",
       " 'Formal Informal Languages',\n",
       " 'Radar Trends to Watch: November 2022',\n",
       " 'What We Learned Auditing Sophisticated AI for Bias',\n",
       " 'The Collaborative Metaverse',\n",
       " 'What Is Hyperautomation?',\n",
       " 'Radar Trends to Watch: October 2022',\n",
       " 'The Problem with Intelligence']"
      ]
     },
     "execution_count": 81,
     "metadata": {},
     "output_type": "execute_result"
    }
   ],
   "source": [
    "lst5 = []\n",
    "\n",
    "for e in range(len(feeds.entries)):\n",
    "    title=feeds['entries'][e]['title']\n",
    "    lst5.append(title)\n",
    "    \n",
    "lst5"
   ]
  },
  {
   "cell_type": "markdown",
   "metadata": {},
   "source": [
    "### 8. Calculate the percentage of \"Four short links\" entry titles."
   ]
  },
  {
   "cell_type": "code",
   "execution_count": 83,
   "metadata": {},
   "outputs": [],
   "source": [
    "# no se puede hacer, no existe 'four short links'"
   ]
  },
  {
   "cell_type": "markdown",
   "metadata": {},
   "source": [
    "### 9. Create a Pandas data frame from the feed's entries."
   ]
  },
  {
   "cell_type": "code",
   "execution_count": 87,
   "metadata": {},
   "outputs": [],
   "source": [
    "import pandas as pd"
   ]
  },
  {
   "cell_type": "code",
   "execution_count": 116,
   "metadata": {},
   "outputs": [],
   "source": [
    "lst6 = list({feeds['entries'][0]})\n"
   ]
  },
  {
   "cell_type": "code",
   "execution_count": 134,
   "metadata": {},
   "outputs": [
    {
     "data": {
      "text/html": [
       "<div>\n",
       "<style scoped>\n",
       "    .dataframe tbody tr th:only-of-type {\n",
       "        vertical-align: middle;\n",
       "    }\n",
       "\n",
       "    .dataframe tbody tr th {\n",
       "        vertical-align: top;\n",
       "    }\n",
       "\n",
       "    .dataframe thead th {\n",
       "        text-align: right;\n",
       "    }\n",
       "</style>\n",
       "<table border=\"1\" class=\"dataframe\">\n",
       "  <thead>\n",
       "    <tr style=\"text-align: right;\">\n",
       "      <th></th>\n",
       "      <th>title</th>\n",
       "      <th>title_detail</th>\n",
       "      <th>links</th>\n",
       "      <th>link</th>\n",
       "      <th>comments</th>\n",
       "      <th>published</th>\n",
       "      <th>published_parsed</th>\n",
       "      <th>authors</th>\n",
       "      <th>author</th>\n",
       "      <th>author_detail</th>\n",
       "      <th>tags</th>\n",
       "      <th>id</th>\n",
       "      <th>guidislink</th>\n",
       "      <th>summary</th>\n",
       "      <th>summary_detail</th>\n",
       "      <th>content</th>\n",
       "      <th>wfw_commentrss</th>\n",
       "      <th>slash_comments</th>\n",
       "    </tr>\n",
       "  </thead>\n",
       "  <tbody>\n",
       "    <tr>\n",
       "      <th>0</th>\n",
       "      <td>Automating the Automators: Shift Change in the...</td>\n",
       "      <td>{'type': 'text/plain', 'language': None, 'base...</td>\n",
       "      <td>[{'rel': 'alternate', 'type': 'text/html', 'hr...</td>\n",
       "      <td>https://www.oreilly.com/radar/automating-the-a...</td>\n",
       "      <td>https://www.oreilly.com/radar/automating-the-a...</td>\n",
       "      <td>Tue, 17 Jan 2023 11:33:31 +0000</td>\n",
       "      <td>(2023, 1, 17, 11, 33, 31, 1, 17, 0)</td>\n",
       "      <td>[{'name': 'Q McCallum'}]</td>\n",
       "      <td>Q McCallum</td>\n",
       "      <td>{'name': 'Q McCallum'}</td>\n",
       "      <td>[{'term': 'AI &amp; ML', 'scheme': None, 'label': ...</td>\n",
       "      <td>https://www.oreilly.com/radar/?p=14841</td>\n",
       "      <td>False</td>\n",
       "      <td>What would you say is the job of a software de...</td>\n",
       "      <td>{'type': 'text/html', 'language': None, 'base'...</td>\n",
       "      <td>[{'type': 'text/html', 'language': None, 'base...</td>\n",
       "      <td>https://www.oreilly.com/radar/automating-the-a...</td>\n",
       "      <td>0</td>\n",
       "    </tr>\n",
       "    <tr>\n",
       "      <th>1</th>\n",
       "      <td>Digesting 2022</td>\n",
       "      <td>{'type': 'text/plain', 'language': None, 'base...</td>\n",
       "      <td>[{'rel': 'alternate', 'type': 'text/html', 'hr...</td>\n",
       "      <td>https://www.oreilly.com/radar/digesting-2022/</td>\n",
       "      <td>https://www.oreilly.com/radar/digesting-2022/#...</td>\n",
       "      <td>Tue, 10 Jan 2023 13:37:13 +0000</td>\n",
       "      <td>(2023, 1, 10, 13, 37, 13, 1, 10, 0)</td>\n",
       "      <td>[{'name': 'Mike Loukides'}]</td>\n",
       "      <td>Mike Loukides</td>\n",
       "      <td>{'name': 'Mike Loukides'}</td>\n",
       "      <td>[{'term': 'AI &amp; ML', 'scheme': None, 'label': ...</td>\n",
       "      <td>https://www.oreilly.com/radar/?p=14837</td>\n",
       "      <td>False</td>\n",
       "      <td>Although I don’t subscribe to the idea that hi...</td>\n",
       "      <td>{'type': 'text/html', 'language': None, 'base'...</td>\n",
       "      <td>[{'type': 'text/html', 'language': None, 'base...</td>\n",
       "      <td>https://www.oreilly.com/radar/digesting-2022/f...</td>\n",
       "      <td>0</td>\n",
       "    </tr>\n",
       "  </tbody>\n",
       "</table>\n",
       "</div>"
      ],
      "text/plain": [
       "                                               title  \\\n",
       "0  Automating the Automators: Shift Change in the...   \n",
       "1                                     Digesting 2022   \n",
       "\n",
       "                                        title_detail  \\\n",
       "0  {'type': 'text/plain', 'language': None, 'base...   \n",
       "1  {'type': 'text/plain', 'language': None, 'base...   \n",
       "\n",
       "                                               links  \\\n",
       "0  [{'rel': 'alternate', 'type': 'text/html', 'hr...   \n",
       "1  [{'rel': 'alternate', 'type': 'text/html', 'hr...   \n",
       "\n",
       "                                                link  \\\n",
       "0  https://www.oreilly.com/radar/automating-the-a...   \n",
       "1      https://www.oreilly.com/radar/digesting-2022/   \n",
       "\n",
       "                                            comments  \\\n",
       "0  https://www.oreilly.com/radar/automating-the-a...   \n",
       "1  https://www.oreilly.com/radar/digesting-2022/#...   \n",
       "\n",
       "                         published                     published_parsed  \\\n",
       "0  Tue, 17 Jan 2023 11:33:31 +0000  (2023, 1, 17, 11, 33, 31, 1, 17, 0)   \n",
       "1  Tue, 10 Jan 2023 13:37:13 +0000  (2023, 1, 10, 13, 37, 13, 1, 10, 0)   \n",
       "\n",
       "                       authors         author              author_detail  \\\n",
       "0     [{'name': 'Q McCallum'}]     Q McCallum     {'name': 'Q McCallum'}   \n",
       "1  [{'name': 'Mike Loukides'}]  Mike Loukides  {'name': 'Mike Loukides'}   \n",
       "\n",
       "                                                tags  \\\n",
       "0  [{'term': 'AI & ML', 'scheme': None, 'label': ...   \n",
       "1  [{'term': 'AI & ML', 'scheme': None, 'label': ...   \n",
       "\n",
       "                                       id  guidislink  \\\n",
       "0  https://www.oreilly.com/radar/?p=14841       False   \n",
       "1  https://www.oreilly.com/radar/?p=14837       False   \n",
       "\n",
       "                                             summary  \\\n",
       "0  What would you say is the job of a software de...   \n",
       "1  Although I don’t subscribe to the idea that hi...   \n",
       "\n",
       "                                      summary_detail  \\\n",
       "0  {'type': 'text/html', 'language': None, 'base'...   \n",
       "1  {'type': 'text/html', 'language': None, 'base'...   \n",
       "\n",
       "                                             content  \\\n",
       "0  [{'type': 'text/html', 'language': None, 'base...   \n",
       "1  [{'type': 'text/html', 'language': None, 'base...   \n",
       "\n",
       "                                      wfw_commentrss slash_comments  \n",
       "0  https://www.oreilly.com/radar/automating-the-a...              0  \n",
       "1  https://www.oreilly.com/radar/digesting-2022/f...              0  "
      ]
     },
     "execution_count": 134,
     "metadata": {},
     "output_type": "execute_result"
    }
   ],
   "source": [
    "lst6 = []\n",
    "for e in range(len(feeds.entries)):\n",
    "    title = feeds['entries'][e]\n",
    "    lst6.append(title)\n",
    "    \n",
    "df = pd.DataFrame(lst6)\n",
    "df.head(2)"
   ]
  },
  {
   "cell_type": "markdown",
   "metadata": {},
   "source": [
    "### 10. Count the number of entries per author and sort them in descending order."
   ]
  },
  {
   "cell_type": "code",
   "execution_count": 133,
   "metadata": {},
   "outputs": [
    {
     "data": {
      "text/plain": [
       "Mike Loukides    12\n",
       "Q McCallum        1\n",
       "Mike Barlow       1\n",
       "Patrick Hall      1\n",
       "Name: author, dtype: int64"
      ]
     },
     "execution_count": 133,
     "metadata": {},
     "output_type": "execute_result"
    }
   ],
   "source": [
    "df.author.value_counts()"
   ]
  },
  {
   "cell_type": "markdown",
   "metadata": {},
   "source": [
    "### 11. Add a new column to the data frame that contains the length (number of characters) of each entry title. Return a data frame that contains the title, author, and title length of each entry in descending order (longest title length at the top)."
   ]
  },
  {
   "cell_type": "code",
   "execution_count": 146,
   "metadata": {},
   "outputs": [],
   "source": [
    "df['length']=df.title.astype(str).apply(len)\n",
    "\n",
    "#for e in df.title:\n",
    "    #lenght = len(e)\n",
    "    #print(length)\n",
    "\n",
    "df2 = df.copy()"
   ]
  },
  {
   "cell_type": "code",
   "execution_count": 157,
   "metadata": {},
   "outputs": [
    {
     "data": {
      "text/html": [
       "<div>\n",
       "<style scoped>\n",
       "    .dataframe tbody tr th:only-of-type {\n",
       "        vertical-align: middle;\n",
       "    }\n",
       "\n",
       "    .dataframe tbody tr th {\n",
       "        vertical-align: top;\n",
       "    }\n",
       "\n",
       "    .dataframe thead th {\n",
       "        text-align: right;\n",
       "    }\n",
       "</style>\n",
       "<table border=\"1\" class=\"dataframe\">\n",
       "  <thead>\n",
       "    <tr style=\"text-align: right;\">\n",
       "      <th></th>\n",
       "      <th>title</th>\n",
       "      <th>author</th>\n",
       "      <th>length</th>\n",
       "    </tr>\n",
       "  </thead>\n",
       "  <tbody>\n",
       "    <tr>\n",
       "      <th>5</th>\n",
       "      <td>AI’s ‘SolarWinds Moment’ Will Occur; It’s Just...</td>\n",
       "      <td>Mike Barlow</td>\n",
       "      <td>63</td>\n",
       "    </tr>\n",
       "    <tr>\n",
       "      <th>0</th>\n",
       "      <td>Automating the Automators: Shift Change in the...</td>\n",
       "      <td>Q McCallum</td>\n",
       "      <td>60</td>\n",
       "    </tr>\n",
       "    <tr>\n",
       "      <th>10</th>\n",
       "      <td>What We Learned Auditing Sophisticated AI for ...</td>\n",
       "      <td>Patrick Hall</td>\n",
       "      <td>50</td>\n",
       "    </tr>\n",
       "    <tr>\n",
       "      <th>3</th>\n",
       "      <td>What Does Copyright Say about Generative Models?</td>\n",
       "      <td>Mike Loukides</td>\n",
       "      <td>48</td>\n",
       "    </tr>\n",
       "    <tr>\n",
       "      <th>4</th>\n",
       "      <td>Radar Trends to Watch: December 2022</td>\n",
       "      <td>Mike Loukides</td>\n",
       "      <td>36</td>\n",
       "    </tr>\n",
       "    <tr>\n",
       "      <th>9</th>\n",
       "      <td>Radar Trends to Watch: November 2022</td>\n",
       "      <td>Mike Loukides</td>\n",
       "      <td>36</td>\n",
       "    </tr>\n",
       "    <tr>\n",
       "      <th>2</th>\n",
       "      <td>Radar Trends to Watch: January 2023</td>\n",
       "      <td>Mike Loukides</td>\n",
       "      <td>35</td>\n",
       "    </tr>\n",
       "    <tr>\n",
       "      <th>13</th>\n",
       "      <td>Radar Trends to Watch: October 2022</td>\n",
       "      <td>Mike Loukides</td>\n",
       "      <td>35</td>\n",
       "    </tr>\n",
       "    <tr>\n",
       "      <th>6</th>\n",
       "      <td>Technical Health Isn’t Optional</td>\n",
       "      <td>Mike Loukides</td>\n",
       "      <td>31</td>\n",
       "    </tr>\n",
       "    <tr>\n",
       "      <th>14</th>\n",
       "      <td>The Problem with Intelligence</td>\n",
       "      <td>Mike Loukides</td>\n",
       "      <td>29</td>\n",
       "    </tr>\n",
       "    <tr>\n",
       "      <th>11</th>\n",
       "      <td>The Collaborative Metaverse</td>\n",
       "      <td>Mike Loukides</td>\n",
       "      <td>27</td>\n",
       "    </tr>\n",
       "    <tr>\n",
       "      <th>8</th>\n",
       "      <td>Formal Informal Languages</td>\n",
       "      <td>Mike Loukides</td>\n",
       "      <td>25</td>\n",
       "    </tr>\n",
       "    <tr>\n",
       "      <th>12</th>\n",
       "      <td>What Is Hyperautomation?</td>\n",
       "      <td>Mike Loukides</td>\n",
       "      <td>24</td>\n",
       "    </tr>\n",
       "    <tr>\n",
       "      <th>1</th>\n",
       "      <td>Digesting 2022</td>\n",
       "      <td>Mike Loukides</td>\n",
       "      <td>14</td>\n",
       "    </tr>\n",
       "    <tr>\n",
       "      <th>7</th>\n",
       "      <td>Healthy Data</td>\n",
       "      <td>Mike Loukides</td>\n",
       "      <td>12</td>\n",
       "    </tr>\n",
       "  </tbody>\n",
       "</table>\n",
       "</div>"
      ],
      "text/plain": [
       "                                                title         author  length\n",
       "5   AI’s ‘SolarWinds Moment’ Will Occur; It’s Just...    Mike Barlow      63\n",
       "0   Automating the Automators: Shift Change in the...     Q McCallum      60\n",
       "10  What We Learned Auditing Sophisticated AI for ...   Patrick Hall      50\n",
       "3    What Does Copyright Say about Generative Models?  Mike Loukides      48\n",
       "4                Radar Trends to Watch: December 2022  Mike Loukides      36\n",
       "9                Radar Trends to Watch: November 2022  Mike Loukides      36\n",
       "2                 Radar Trends to Watch: January 2023  Mike Loukides      35\n",
       "13                Radar Trends to Watch: October 2022  Mike Loukides      35\n",
       "6                     Technical Health Isn’t Optional  Mike Loukides      31\n",
       "14                      The Problem with Intelligence  Mike Loukides      29\n",
       "11                        The Collaborative Metaverse  Mike Loukides      27\n",
       "8                           Formal Informal Languages  Mike Loukides      25\n",
       "12                           What Is Hyperautomation?  Mike Loukides      24\n",
       "1                                      Digesting 2022  Mike Loukides      14\n",
       "7                                        Healthy Data  Mike Loukides      12"
      ]
     },
     "execution_count": 157,
     "metadata": {},
     "output_type": "execute_result"
    }
   ],
   "source": [
    "df2 = df2[['title','author','length']]\n",
    "df2 = df2.sort_values(by = 'length', ascending = False)\n",
    "df2"
   ]
  },
  {
   "cell_type": "markdown",
   "metadata": {},
   "source": [
    "### 12. Create a list of entry titles whose summary includes the phrase \"machine learning.\""
   ]
  },
  {
   "cell_type": "code",
   "execution_count": 167,
   "metadata": {},
   "outputs": [
    {
     "data": {
      "text/plain": [
       "['Radar Trends to Watch: October 2022']"
      ]
     },
     "execution_count": 167,
     "metadata": {},
     "output_type": "execute_result"
    }
   ],
   "source": [
    "ml_list = []\n",
    "for e in range(len(feeds.entries)):\n",
    "    if 'machine learning' in feeds['entries'][e]['summary']:\n",
    "        ml_list.append(feeds['entries'][e]['title'])\n",
    "ml_list"
   ]
  }
 ],
 "metadata": {
  "kernelspec": {
   "display_name": "Python 3 (ipykernel)",
   "language": "python",
   "name": "python3"
  },
  "language_info": {
   "codemirror_mode": {
    "name": "ipython",
    "version": 3
   },
   "file_extension": ".py",
   "mimetype": "text/x-python",
   "name": "python",
   "nbconvert_exporter": "python",
   "pygments_lexer": "ipython3",
   "version": "3.9.13"
  }
 },
 "nbformat": 4,
 "nbformat_minor": 2
}
