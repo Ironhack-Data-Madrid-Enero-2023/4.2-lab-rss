{
 "cells": [
  {
   "cell_type": "markdown",
   "metadata": {},
   "source": [
    "# Working with RSS Feeds Lab\n",
    "\n",
    "Complete the following set of exercises to solidify your knowledge of parsing RSS feeds and extracting information from them."
   ]
  },
  {
   "cell_type": "code",
   "execution_count": 1,
   "metadata": {},
   "outputs": [
    {
     "name": "stdout",
     "output_type": "stream",
     "text": [
      "Requirement already satisfied: feedparser in /Users/fernando/opt/anaconda3/lib/python3.9/site-packages (6.0.10)\n",
      "Requirement already satisfied: sgmllib3k in /Users/fernando/opt/anaconda3/lib/python3.9/site-packages (from feedparser) (1.0.0)\n",
      "Note: you may need to restart the kernel to use updated packages.\n"
     ]
    }
   ],
   "source": [
    "%pip install feedparser"
   ]
  },
  {
   "cell_type": "code",
   "execution_count": 2,
   "metadata": {},
   "outputs": [],
   "source": [
    "import feedparser"
   ]
  },
  {
   "cell_type": "code",
   "execution_count": 3,
   "metadata": {},
   "outputs": [],
   "source": [
    "import pandas as pd"
   ]
  },
  {
   "cell_type": "markdown",
   "metadata": {},
   "source": [
    "### 1. Use feedparser to parse the following RSS feed URL."
   ]
  },
  {
   "cell_type": "code",
   "execution_count": 4,
   "metadata": {},
   "outputs": [],
   "source": [
    "url = feedparser.parse('http://feeds.feedburner.com/oreilly/radar/atom')"
   ]
  },
  {
   "cell_type": "code",
   "execution_count": 5,
   "metadata": {},
   "outputs": [
    {
     "data": {
      "text/plain": [
       "feedparser.util.FeedParserDict"
      ]
     },
     "execution_count": 5,
     "metadata": {},
     "output_type": "execute_result"
    }
   ],
   "source": [
    "type(url)"
   ]
  },
  {
   "cell_type": "code",
   "execution_count": null,
   "metadata": {},
   "outputs": [],
   "source": []
  },
  {
   "cell_type": "code",
   "execution_count": null,
   "metadata": {},
   "outputs": [],
   "source": []
  },
  {
   "cell_type": "markdown",
   "metadata": {},
   "source": [
    "### 2. Obtain a list of components (keys) that are available for this feed."
   ]
  },
  {
   "cell_type": "code",
   "execution_count": 6,
   "metadata": {},
   "outputs": [
    {
     "data": {
      "text/plain": [
       "dict_keys(['bozo', 'entries', 'feed', 'headers', 'updated', 'updated_parsed', 'href', 'status', 'encoding', 'version', 'namespaces'])"
      ]
     },
     "execution_count": 6,
     "metadata": {},
     "output_type": "execute_result"
    }
   ],
   "source": [
    "url.keys()"
   ]
  },
  {
   "cell_type": "markdown",
   "metadata": {},
   "source": [
    "### 3. Obtain a list of components (keys) that are available for the *feed* component of this RSS feed."
   ]
  },
  {
   "cell_type": "code",
   "execution_count": 7,
   "metadata": {},
   "outputs": [
    {
     "name": "stdout",
     "output_type": "stream",
     "text": [
      "dict_keys(['title', 'title_detail', 'links', 'link', 'subtitle', 'subtitle_detail', 'updated', 'updated_parsed', 'language', 'sy_updateperiod', 'sy_updatefrequency', 'generator_detail', 'generator'])\n"
     ]
    }
   ],
   "source": [
    "lst = url['feed'].keys()\n",
    "print(lst)"
   ]
  },
  {
   "cell_type": "markdown",
   "metadata": {},
   "source": [
    "### 4. Extract and print the feed title, subtitle, author, and link."
   ]
  },
  {
   "cell_type": "code",
   "execution_count": 8,
   "metadata": {},
   "outputs": [
    {
     "data": {
      "text/plain": [
       "{'title': 'Radar',\n",
       " 'title_detail': {'type': 'text/plain',\n",
       "  'language': None,\n",
       "  'base': 'http://feeds.feedburner.com/oreilly/radar/atom',\n",
       "  'value': 'Radar'},\n",
       " 'links': [{'href': 'https://www.oreilly.com/radar/feed/',\n",
       "   'rel': 'self',\n",
       "   'type': 'application/rss+xml'},\n",
       "  {'rel': 'alternate',\n",
       "   'type': 'text/html',\n",
       "   'href': 'https://www.oreilly.com/radar'}],\n",
       " 'link': 'https://www.oreilly.com/radar',\n",
       " 'subtitle': 'Now, next, and beyond: Tracking need-to-know trends at the intersection of business and technology',\n",
       " 'subtitle_detail': {'type': 'text/html',\n",
       "  'language': None,\n",
       "  'base': 'http://feeds.feedburner.com/oreilly/radar/atom',\n",
       "  'value': 'Now, next, and beyond: Tracking need-to-know trends at the intersection of business and technology'},\n",
       " 'updated': 'Tue, 07 Feb 2023 11:18:48 +0000',\n",
       " 'updated_parsed': time.struct_time(tm_year=2023, tm_mon=2, tm_mday=7, tm_hour=11, tm_min=18, tm_sec=48, tm_wday=1, tm_yday=38, tm_isdst=0),\n",
       " 'language': 'en-US',\n",
       " 'sy_updateperiod': 'hourly',\n",
       " 'sy_updatefrequency': '1',\n",
       " 'generator_detail': {'name': 'https://wordpress.org/?v=5.3.14'},\n",
       " 'generator': 'https://wordpress.org/?v=5.3.14'}"
      ]
     },
     "execution_count": 8,
     "metadata": {},
     "output_type": "execute_result"
    }
   ],
   "source": [
    "url['feed']"
   ]
  },
  {
   "cell_type": "markdown",
   "metadata": {},
   "source": [
    "### 5. Count the number of entries that are contained in this RSS feed."
   ]
  },
  {
   "cell_type": "code",
   "execution_count": 9,
   "metadata": {},
   "outputs": [
    {
     "data": {
      "text/plain": [
       "13"
      ]
     },
     "execution_count": 9,
     "metadata": {},
     "output_type": "execute_result"
    }
   ],
   "source": [
    "len(url['feed'])"
   ]
  },
  {
   "cell_type": "markdown",
   "metadata": {},
   "source": [
    "### 6. Obtain a list of components (keys) available for an entry.\n",
    "\n",
    "*Hint: Remember to index first before requesting the keys*"
   ]
  },
  {
   "cell_type": "code",
   "execution_count": 10,
   "metadata": {},
   "outputs": [
    {
     "data": {
      "text/plain": [
       "dict_keys(['title', 'title_detail', 'links', 'link', 'comments', 'published', 'published_parsed', 'authors', 'author', 'author_detail', 'tags', 'id', 'guidislink', 'summary', 'summary_detail', 'content', 'wfw_commentrss', 'slash_comments'])"
      ]
     },
     "execution_count": 10,
     "metadata": {},
     "output_type": "execute_result"
    }
   ],
   "source": [
    "url['entries'][1].keys()"
   ]
  },
  {
   "cell_type": "markdown",
   "metadata": {},
   "source": [
    "### 7. Extract a list of entry titles."
   ]
  },
  {
   "cell_type": "code",
   "execution_count": 21,
   "metadata": {},
   "outputs": [
    {
     "data": {
      "text/plain": [
       "['Radar Trends to Watch: February 2023',\n",
       " 'Automating the Automators: Shift Change in the Robot Factory',\n",
       " 'Digesting 2022',\n",
       " 'Radar Trends to Watch: January 2023',\n",
       " 'What Does Copyright Say about Generative Models?',\n",
       " 'Radar Trends to Watch: December 2022',\n",
       " 'AI’s ‘SolarWinds Moment’ Will Occur; It’s Just a Matter of When',\n",
       " 'Technical Health Isn’t Optional',\n",
       " 'Healthy Data',\n",
       " 'Formal Informal Languages',\n",
       " 'Radar Trends to Watch: November 2022',\n",
       " 'What We Learned Auditing Sophisticated AI for Bias',\n",
       " 'The Collaborative Metaverse',\n",
       " 'What Is Hyperautomation?',\n",
       " 'Radar Trends to Watch: October 2022']"
      ]
     },
     "execution_count": 21,
     "metadata": {},
     "output_type": "execute_result"
    }
   ],
   "source": [
    "[url.entries[i].title for i in range(len(url.entries))]"
   ]
  },
  {
   "cell_type": "markdown",
   "metadata": {},
   "source": [
    "### 8. Calculate the percentage of \"Four short links\" entry titles."
   ]
  },
  {
   "cell_type": "code",
   "execution_count": null,
   "metadata": {},
   "outputs": [],
   "source": []
  },
  {
   "cell_type": "markdown",
   "metadata": {},
   "source": [
    "### 9. Create a Pandas data frame from the feed's entries."
   ]
  },
  {
   "cell_type": "code",
   "execution_count": 12,
   "metadata": {},
   "outputs": [
    {
     "data": {
      "text/html": [
       "<div>\n",
       "<style scoped>\n",
       "    .dataframe tbody tr th:only-of-type {\n",
       "        vertical-align: middle;\n",
       "    }\n",
       "\n",
       "    .dataframe tbody tr th {\n",
       "        vertical-align: top;\n",
       "    }\n",
       "\n",
       "    .dataframe thead th {\n",
       "        text-align: right;\n",
       "    }\n",
       "</style>\n",
       "<table border=\"1\" class=\"dataframe\">\n",
       "  <thead>\n",
       "    <tr style=\"text-align: right;\">\n",
       "      <th></th>\n",
       "      <th>title</th>\n",
       "      <th>title_detail</th>\n",
       "      <th>links</th>\n",
       "      <th>link</th>\n",
       "      <th>comments</th>\n",
       "      <th>published</th>\n",
       "      <th>published_parsed</th>\n",
       "      <th>authors</th>\n",
       "      <th>author</th>\n",
       "      <th>author_detail</th>\n",
       "      <th>tags</th>\n",
       "      <th>id</th>\n",
       "      <th>guidislink</th>\n",
       "      <th>summary</th>\n",
       "      <th>summary_detail</th>\n",
       "      <th>content</th>\n",
       "      <th>wfw_commentrss</th>\n",
       "      <th>slash_comments</th>\n",
       "    </tr>\n",
       "  </thead>\n",
       "  <tbody>\n",
       "    <tr>\n",
       "      <th>0</th>\n",
       "      <td>Radar Trends to Watch: February 2023</td>\n",
       "      <td>{'type': 'text/plain', 'language': None, 'base...</td>\n",
       "      <td>[{'rel': 'alternate', 'type': 'text/html', 'hr...</td>\n",
       "      <td>https://www.oreilly.com/radar/radar-trends-to-...</td>\n",
       "      <td>https://www.oreilly.com/radar/radar-trends-to-...</td>\n",
       "      <td>Tue, 07 Feb 2023 11:18:47 +0000</td>\n",
       "      <td>(2023, 2, 7, 11, 18, 47, 1, 38, 0)</td>\n",
       "      <td>[{'name': 'Mike Loukides'}]</td>\n",
       "      <td>Mike Loukides</td>\n",
       "      <td>{'name': 'Mike Loukides'}</td>\n",
       "      <td>[{'term': 'Radar Trends', 'scheme': None, 'lab...</td>\n",
       "      <td>https://www.oreilly.com/radar/?p=14852</td>\n",
       "      <td>False</td>\n",
       "      <td>This month’s news seems to have been derailed ...</td>\n",
       "      <td>{'type': 'text/html', 'language': None, 'base'...</td>\n",
       "      <td>[{'type': 'text/html', 'language': None, 'base...</td>\n",
       "      <td>https://www.oreilly.com/radar/radar-trends-to-...</td>\n",
       "      <td>0</td>\n",
       "    </tr>\n",
       "    <tr>\n",
       "      <th>1</th>\n",
       "      <td>Automating the Automators: Shift Change in the...</td>\n",
       "      <td>{'type': 'text/plain', 'language': None, 'base...</td>\n",
       "      <td>[{'rel': 'alternate', 'type': 'text/html', 'hr...</td>\n",
       "      <td>https://www.oreilly.com/radar/automating-the-a...</td>\n",
       "      <td>https://www.oreilly.com/radar/automating-the-a...</td>\n",
       "      <td>Tue, 17 Jan 2023 11:33:31 +0000</td>\n",
       "      <td>(2023, 1, 17, 11, 33, 31, 1, 17, 0)</td>\n",
       "      <td>[{'name': 'Q McCallum'}]</td>\n",
       "      <td>Q McCallum</td>\n",
       "      <td>{'name': 'Q McCallum'}</td>\n",
       "      <td>[{'term': 'AI &amp; ML', 'scheme': None, 'label': ...</td>\n",
       "      <td>https://www.oreilly.com/radar/?p=14841</td>\n",
       "      <td>False</td>\n",
       "      <td>What would you say is the job of a software de...</td>\n",
       "      <td>{'type': 'text/html', 'language': None, 'base'...</td>\n",
       "      <td>[{'type': 'text/html', 'language': None, 'base...</td>\n",
       "      <td>https://www.oreilly.com/radar/automating-the-a...</td>\n",
       "      <td>0</td>\n",
       "    </tr>\n",
       "    <tr>\n",
       "      <th>2</th>\n",
       "      <td>Digesting 2022</td>\n",
       "      <td>{'type': 'text/plain', 'language': None, 'base...</td>\n",
       "      <td>[{'rel': 'alternate', 'type': 'text/html', 'hr...</td>\n",
       "      <td>https://www.oreilly.com/radar/digesting-2022/</td>\n",
       "      <td>https://www.oreilly.com/radar/digesting-2022/#...</td>\n",
       "      <td>Tue, 10 Jan 2023 13:37:13 +0000</td>\n",
       "      <td>(2023, 1, 10, 13, 37, 13, 1, 10, 0)</td>\n",
       "      <td>[{'name': 'Mike Loukides'}]</td>\n",
       "      <td>Mike Loukides</td>\n",
       "      <td>{'name': 'Mike Loukides'}</td>\n",
       "      <td>[{'term': 'AI &amp; ML', 'scheme': None, 'label': ...</td>\n",
       "      <td>https://www.oreilly.com/radar/?p=14837</td>\n",
       "      <td>False</td>\n",
       "      <td>Although I don’t subscribe to the idea that hi...</td>\n",
       "      <td>{'type': 'text/html', 'language': None, 'base'...</td>\n",
       "      <td>[{'type': 'text/html', 'language': None, 'base...</td>\n",
       "      <td>https://www.oreilly.com/radar/digesting-2022/f...</td>\n",
       "      <td>0</td>\n",
       "    </tr>\n",
       "    <tr>\n",
       "      <th>3</th>\n",
       "      <td>Radar Trends to Watch: January 2023</td>\n",
       "      <td>{'type': 'text/plain', 'language': None, 'base...</td>\n",
       "      <td>[{'rel': 'alternate', 'type': 'text/html', 'hr...</td>\n",
       "      <td>https://www.oreilly.com/radar/radar-trends-to-...</td>\n",
       "      <td>https://www.oreilly.com/radar/radar-trends-to-...</td>\n",
       "      <td>Wed, 04 Jan 2023 11:53:08 +0000</td>\n",
       "      <td>(2023, 1, 4, 11, 53, 8, 2, 4, 0)</td>\n",
       "      <td>[{'name': 'Mike Loukides'}]</td>\n",
       "      <td>Mike Loukides</td>\n",
       "      <td>{'name': 'Mike Loukides'}</td>\n",
       "      <td>[{'term': 'Radar Trends', 'scheme': None, 'lab...</td>\n",
       "      <td>https://www.oreilly.com/radar/?p=14826</td>\n",
       "      <td>False</td>\n",
       "      <td>Perhaps unsurprisingly, December was a slow mo...</td>\n",
       "      <td>{'type': 'text/html', 'language': None, 'base'...</td>\n",
       "      <td>[{'type': 'text/html', 'language': None, 'base...</td>\n",
       "      <td>https://www.oreilly.com/radar/radar-trends-to-...</td>\n",
       "      <td>0</td>\n",
       "    </tr>\n",
       "    <tr>\n",
       "      <th>4</th>\n",
       "      <td>What Does Copyright Say about Generative Models?</td>\n",
       "      <td>{'type': 'text/plain', 'language': None, 'base...</td>\n",
       "      <td>[{'rel': 'alternate', 'type': 'text/html', 'hr...</td>\n",
       "      <td>https://www.oreilly.com/radar/what-does-copyri...</td>\n",
       "      <td>https://www.oreilly.com/radar/what-does-copyri...</td>\n",
       "      <td>Tue, 13 Dec 2022 12:22:38 +0000</td>\n",
       "      <td>(2022, 12, 13, 12, 22, 38, 1, 347, 0)</td>\n",
       "      <td>[{'name': 'Mike Loukides'}]</td>\n",
       "      <td>Mike Loukides</td>\n",
       "      <td>{'name': 'Mike Loukides'}</td>\n",
       "      <td>[{'term': 'Artificial Intelligence', 'scheme':...</td>\n",
       "      <td>https://www.oreilly.com/radar/?p=14806</td>\n",
       "      <td>False</td>\n",
       "      <td>The current generation of flashy AI applicatio...</td>\n",
       "      <td>{'type': 'text/html', 'language': None, 'base'...</td>\n",
       "      <td>[{'type': 'text/html', 'language': None, 'base...</td>\n",
       "      <td>https://www.oreilly.com/radar/what-does-copyri...</td>\n",
       "      <td>0</td>\n",
       "    </tr>\n",
       "  </tbody>\n",
       "</table>\n",
       "</div>"
      ],
      "text/plain": [
       "                                               title  \\\n",
       "0               Radar Trends to Watch: February 2023   \n",
       "1  Automating the Automators: Shift Change in the...   \n",
       "2                                     Digesting 2022   \n",
       "3                Radar Trends to Watch: January 2023   \n",
       "4   What Does Copyright Say about Generative Models?   \n",
       "\n",
       "                                        title_detail  \\\n",
       "0  {'type': 'text/plain', 'language': None, 'base...   \n",
       "1  {'type': 'text/plain', 'language': None, 'base...   \n",
       "2  {'type': 'text/plain', 'language': None, 'base...   \n",
       "3  {'type': 'text/plain', 'language': None, 'base...   \n",
       "4  {'type': 'text/plain', 'language': None, 'base...   \n",
       "\n",
       "                                               links  \\\n",
       "0  [{'rel': 'alternate', 'type': 'text/html', 'hr...   \n",
       "1  [{'rel': 'alternate', 'type': 'text/html', 'hr...   \n",
       "2  [{'rel': 'alternate', 'type': 'text/html', 'hr...   \n",
       "3  [{'rel': 'alternate', 'type': 'text/html', 'hr...   \n",
       "4  [{'rel': 'alternate', 'type': 'text/html', 'hr...   \n",
       "\n",
       "                                                link  \\\n",
       "0  https://www.oreilly.com/radar/radar-trends-to-...   \n",
       "1  https://www.oreilly.com/radar/automating-the-a...   \n",
       "2      https://www.oreilly.com/radar/digesting-2022/   \n",
       "3  https://www.oreilly.com/radar/radar-trends-to-...   \n",
       "4  https://www.oreilly.com/radar/what-does-copyri...   \n",
       "\n",
       "                                            comments  \\\n",
       "0  https://www.oreilly.com/radar/radar-trends-to-...   \n",
       "1  https://www.oreilly.com/radar/automating-the-a...   \n",
       "2  https://www.oreilly.com/radar/digesting-2022/#...   \n",
       "3  https://www.oreilly.com/radar/radar-trends-to-...   \n",
       "4  https://www.oreilly.com/radar/what-does-copyri...   \n",
       "\n",
       "                         published                       published_parsed  \\\n",
       "0  Tue, 07 Feb 2023 11:18:47 +0000     (2023, 2, 7, 11, 18, 47, 1, 38, 0)   \n",
       "1  Tue, 17 Jan 2023 11:33:31 +0000    (2023, 1, 17, 11, 33, 31, 1, 17, 0)   \n",
       "2  Tue, 10 Jan 2023 13:37:13 +0000    (2023, 1, 10, 13, 37, 13, 1, 10, 0)   \n",
       "3  Wed, 04 Jan 2023 11:53:08 +0000       (2023, 1, 4, 11, 53, 8, 2, 4, 0)   \n",
       "4  Tue, 13 Dec 2022 12:22:38 +0000  (2022, 12, 13, 12, 22, 38, 1, 347, 0)   \n",
       "\n",
       "                       authors         author              author_detail  \\\n",
       "0  [{'name': 'Mike Loukides'}]  Mike Loukides  {'name': 'Mike Loukides'}   \n",
       "1     [{'name': 'Q McCallum'}]     Q McCallum     {'name': 'Q McCallum'}   \n",
       "2  [{'name': 'Mike Loukides'}]  Mike Loukides  {'name': 'Mike Loukides'}   \n",
       "3  [{'name': 'Mike Loukides'}]  Mike Loukides  {'name': 'Mike Loukides'}   \n",
       "4  [{'name': 'Mike Loukides'}]  Mike Loukides  {'name': 'Mike Loukides'}   \n",
       "\n",
       "                                                tags  \\\n",
       "0  [{'term': 'Radar Trends', 'scheme': None, 'lab...   \n",
       "1  [{'term': 'AI & ML', 'scheme': None, 'label': ...   \n",
       "2  [{'term': 'AI & ML', 'scheme': None, 'label': ...   \n",
       "3  [{'term': 'Radar Trends', 'scheme': None, 'lab...   \n",
       "4  [{'term': 'Artificial Intelligence', 'scheme':...   \n",
       "\n",
       "                                       id  guidislink  \\\n",
       "0  https://www.oreilly.com/radar/?p=14852       False   \n",
       "1  https://www.oreilly.com/radar/?p=14841       False   \n",
       "2  https://www.oreilly.com/radar/?p=14837       False   \n",
       "3  https://www.oreilly.com/radar/?p=14826       False   \n",
       "4  https://www.oreilly.com/radar/?p=14806       False   \n",
       "\n",
       "                                             summary  \\\n",
       "0  This month’s news seems to have been derailed ...   \n",
       "1  What would you say is the job of a software de...   \n",
       "2  Although I don’t subscribe to the idea that hi...   \n",
       "3  Perhaps unsurprisingly, December was a slow mo...   \n",
       "4  The current generation of flashy AI applicatio...   \n",
       "\n",
       "                                      summary_detail  \\\n",
       "0  {'type': 'text/html', 'language': None, 'base'...   \n",
       "1  {'type': 'text/html', 'language': None, 'base'...   \n",
       "2  {'type': 'text/html', 'language': None, 'base'...   \n",
       "3  {'type': 'text/html', 'language': None, 'base'...   \n",
       "4  {'type': 'text/html', 'language': None, 'base'...   \n",
       "\n",
       "                                             content  \\\n",
       "0  [{'type': 'text/html', 'language': None, 'base...   \n",
       "1  [{'type': 'text/html', 'language': None, 'base...   \n",
       "2  [{'type': 'text/html', 'language': None, 'base...   \n",
       "3  [{'type': 'text/html', 'language': None, 'base...   \n",
       "4  [{'type': 'text/html', 'language': None, 'base...   \n",
       "\n",
       "                                      wfw_commentrss slash_comments  \n",
       "0  https://www.oreilly.com/radar/radar-trends-to-...              0  \n",
       "1  https://www.oreilly.com/radar/automating-the-a...              0  \n",
       "2  https://www.oreilly.com/radar/digesting-2022/f...              0  \n",
       "3  https://www.oreilly.com/radar/radar-trends-to-...              0  \n",
       "4  https://www.oreilly.com/radar/what-does-copyri...              0  "
      ]
     },
     "execution_count": 12,
     "metadata": {},
     "output_type": "execute_result"
    }
   ],
   "source": [
    "df = pd.DataFrame(url['entries'])\n",
    "df.head()"
   ]
  },
  {
   "cell_type": "code",
   "execution_count": null,
   "metadata": {},
   "outputs": [],
   "source": []
  },
  {
   "cell_type": "markdown",
   "metadata": {},
   "source": [
    "### 10. Count the number of entries per author and sort them in descending order."
   ]
  },
  {
   "cell_type": "code",
   "execution_count": 15,
   "metadata": {},
   "outputs": [
    {
     "data": {
      "text/plain": [
       "Mike Loukides    12\n",
       "Q McCallum        1\n",
       "Mike Barlow       1\n",
       "Patrick Hall      1\n",
       "Name: author, dtype: int64"
      ]
     },
     "execution_count": 15,
     "metadata": {},
     "output_type": "execute_result"
    }
   ],
   "source": [
    "df.author.value_counts().sort_values(ascending=False)"
   ]
  },
  {
   "cell_type": "markdown",
   "metadata": {},
   "source": [
    "### 11. Add a new column to the data frame that contains the length (number of characters) of each entry title. Return a data frame that contains the title, author, and title length of each entry in descending order (longest title length at the top)."
   ]
  },
  {
   "cell_type": "code",
   "execution_count": 22,
   "metadata": {
    "scrolled": true
   },
   "outputs": [
    {
     "data": {
      "text/html": [
       "<div>\n",
       "<style scoped>\n",
       "    .dataframe tbody tr th:only-of-type {\n",
       "        vertical-align: middle;\n",
       "    }\n",
       "\n",
       "    .dataframe tbody tr th {\n",
       "        vertical-align: top;\n",
       "    }\n",
       "\n",
       "    .dataframe thead th {\n",
       "        text-align: right;\n",
       "    }\n",
       "</style>\n",
       "<table border=\"1\" class=\"dataframe\">\n",
       "  <thead>\n",
       "    <tr style=\"text-align: right;\">\n",
       "      <th></th>\n",
       "      <th>title</th>\n",
       "      <th>author</th>\n",
       "      <th>title_length</th>\n",
       "    </tr>\n",
       "  </thead>\n",
       "  <tbody>\n",
       "    <tr>\n",
       "      <th>6</th>\n",
       "      <td>AI’s ‘SolarWinds Moment’ Will Occur; It’s Just...</td>\n",
       "      <td>Mike Barlow</td>\n",
       "      <td>63</td>\n",
       "    </tr>\n",
       "    <tr>\n",
       "      <th>1</th>\n",
       "      <td>Automating the Automators: Shift Change in the...</td>\n",
       "      <td>Q McCallum</td>\n",
       "      <td>60</td>\n",
       "    </tr>\n",
       "    <tr>\n",
       "      <th>11</th>\n",
       "      <td>What We Learned Auditing Sophisticated AI for ...</td>\n",
       "      <td>Patrick Hall</td>\n",
       "      <td>50</td>\n",
       "    </tr>\n",
       "    <tr>\n",
       "      <th>4</th>\n",
       "      <td>What Does Copyright Say about Generative Models?</td>\n",
       "      <td>Mike Loukides</td>\n",
       "      <td>48</td>\n",
       "    </tr>\n",
       "    <tr>\n",
       "      <th>0</th>\n",
       "      <td>Radar Trends to Watch: February 2023</td>\n",
       "      <td>Mike Loukides</td>\n",
       "      <td>36</td>\n",
       "    </tr>\n",
       "    <tr>\n",
       "      <th>5</th>\n",
       "      <td>Radar Trends to Watch: December 2022</td>\n",
       "      <td>Mike Loukides</td>\n",
       "      <td>36</td>\n",
       "    </tr>\n",
       "    <tr>\n",
       "      <th>10</th>\n",
       "      <td>Radar Trends to Watch: November 2022</td>\n",
       "      <td>Mike Loukides</td>\n",
       "      <td>36</td>\n",
       "    </tr>\n",
       "    <tr>\n",
       "      <th>3</th>\n",
       "      <td>Radar Trends to Watch: January 2023</td>\n",
       "      <td>Mike Loukides</td>\n",
       "      <td>35</td>\n",
       "    </tr>\n",
       "    <tr>\n",
       "      <th>14</th>\n",
       "      <td>Radar Trends to Watch: October 2022</td>\n",
       "      <td>Mike Loukides</td>\n",
       "      <td>35</td>\n",
       "    </tr>\n",
       "    <tr>\n",
       "      <th>7</th>\n",
       "      <td>Technical Health Isn’t Optional</td>\n",
       "      <td>Mike Loukides</td>\n",
       "      <td>31</td>\n",
       "    </tr>\n",
       "    <tr>\n",
       "      <th>12</th>\n",
       "      <td>The Collaborative Metaverse</td>\n",
       "      <td>Mike Loukides</td>\n",
       "      <td>27</td>\n",
       "    </tr>\n",
       "    <tr>\n",
       "      <th>9</th>\n",
       "      <td>Formal Informal Languages</td>\n",
       "      <td>Mike Loukides</td>\n",
       "      <td>25</td>\n",
       "    </tr>\n",
       "    <tr>\n",
       "      <th>13</th>\n",
       "      <td>What Is Hyperautomation?</td>\n",
       "      <td>Mike Loukides</td>\n",
       "      <td>24</td>\n",
       "    </tr>\n",
       "    <tr>\n",
       "      <th>2</th>\n",
       "      <td>Digesting 2022</td>\n",
       "      <td>Mike Loukides</td>\n",
       "      <td>14</td>\n",
       "    </tr>\n",
       "    <tr>\n",
       "      <th>8</th>\n",
       "      <td>Healthy Data</td>\n",
       "      <td>Mike Loukides</td>\n",
       "      <td>12</td>\n",
       "    </tr>\n",
       "  </tbody>\n",
       "</table>\n",
       "</div>"
      ],
      "text/plain": [
       "                                                title         author  \\\n",
       "6   AI’s ‘SolarWinds Moment’ Will Occur; It’s Just...    Mike Barlow   \n",
       "1   Automating the Automators: Shift Change in the...     Q McCallum   \n",
       "11  What We Learned Auditing Sophisticated AI for ...   Patrick Hall   \n",
       "4    What Does Copyright Say about Generative Models?  Mike Loukides   \n",
       "0                Radar Trends to Watch: February 2023  Mike Loukides   \n",
       "5                Radar Trends to Watch: December 2022  Mike Loukides   \n",
       "10               Radar Trends to Watch: November 2022  Mike Loukides   \n",
       "3                 Radar Trends to Watch: January 2023  Mike Loukides   \n",
       "14                Radar Trends to Watch: October 2022  Mike Loukides   \n",
       "7                     Technical Health Isn’t Optional  Mike Loukides   \n",
       "12                        The Collaborative Metaverse  Mike Loukides   \n",
       "9                           Formal Informal Languages  Mike Loukides   \n",
       "13                           What Is Hyperautomation?  Mike Loukides   \n",
       "2                                      Digesting 2022  Mike Loukides   \n",
       "8                                        Healthy Data  Mike Loukides   \n",
       "\n",
       "    title_length  \n",
       "6             63  \n",
       "1             60  \n",
       "11            50  \n",
       "4             48  \n",
       "0             36  \n",
       "5             36  \n",
       "10            36  \n",
       "3             35  \n",
       "14            35  \n",
       "7             31  \n",
       "12            27  \n",
       "9             25  \n",
       "13            24  \n",
       "2             14  \n",
       "8             12  "
      ]
     },
     "execution_count": 22,
     "metadata": {},
     "output_type": "execute_result"
    }
   ],
   "source": [
    "df['title_length'] = [len(url.entries[i].title) for i in range(len(url.entries))]\n",
    "\n",
    "df[['title', 'author', 'title_length']].sort_values(by='title_length', ascending=False)"
   ]
  },
  {
   "cell_type": "markdown",
   "metadata": {},
   "source": [
    "### 12. Create a list of entry titles whose summary includes the phrase \"machine learning.\""
   ]
  },
  {
   "cell_type": "code",
   "execution_count": null,
   "metadata": {},
   "outputs": [],
   "source": []
  },
  {
   "cell_type": "code",
   "execution_count": null,
   "metadata": {},
   "outputs": [],
   "source": []
  }
 ],
 "metadata": {
  "kernelspec": {
   "display_name": "Python 3 (ipykernel)",
   "language": "python",
   "name": "python3"
  },
  "language_info": {
   "codemirror_mode": {
    "name": "ipython",
    "version": 3
   },
   "file_extension": ".py",
   "mimetype": "text/x-python",
   "name": "python",
   "nbconvert_exporter": "python",
   "pygments_lexer": "ipython3",
   "version": "3.9.13"
  }
 },
 "nbformat": 4,
 "nbformat_minor": 2
}
