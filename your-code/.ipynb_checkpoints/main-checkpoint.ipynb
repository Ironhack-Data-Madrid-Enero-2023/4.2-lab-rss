{
 "cells": [
  {
   "cell_type": "markdown",
   "metadata": {},
   "source": [
    "# Working with RSS Feeds Lab\n",
    "\n",
    "Complete the following set of exercises to solidify your knowledge of parsing RSS feeds and extracting information from them."
   ]
  },
  {
   "cell_type": "code",
   "execution_count": 1,
   "metadata": {},
   "outputs": [
    {
     "name": "stdout",
     "output_type": "stream",
     "text": [
      "Requirement already satisfied: feedparser in c:\\users\\jelsa\\anaconda3\\lib\\site-packages (6.0.10)\n",
      "Requirement already satisfied: sgmllib3k in c:\\users\\jelsa\\anaconda3\\lib\\site-packages (from feedparser) (1.0.0)\n",
      "Note: you may need to restart the kernel to use updated packages.\n"
     ]
    }
   ],
   "source": [
    "%pip install feedparser"
   ]
  },
  {
   "cell_type": "code",
   "execution_count": 2,
   "metadata": {},
   "outputs": [],
   "source": [
    "import feedparser"
   ]
  },
  {
   "cell_type": "markdown",
   "metadata": {},
   "source": [
    "### 1. Use feedparser to parse the following RSS feed URL."
   ]
  },
  {
   "cell_type": "code",
   "execution_count": 3,
   "metadata": {},
   "outputs": [],
   "source": [
    "feeds=feedparser.parse('http://feeds.feedburner.com/oreilly/radar/atom')"
   ]
  },
  {
   "cell_type": "code",
   "execution_count": 4,
   "metadata": {},
   "outputs": [
    {
     "data": {
      "text/plain": [
       "feedparser.util.FeedParserDict"
      ]
     },
     "execution_count": 4,
     "metadata": {},
     "output_type": "execute_result"
    }
   ],
   "source": [
    "type(feeds)"
   ]
  },
  {
   "cell_type": "markdown",
   "metadata": {},
   "source": [
    "### 2. Obtain a list of components (keys) that are available for this feed."
   ]
  },
  {
   "cell_type": "code",
   "execution_count": 5,
   "metadata": {},
   "outputs": [
    {
     "data": {
      "text/plain": [
       "dict_keys(['bozo', 'entries', 'feed', 'headers', 'updated', 'updated_parsed', 'href', 'status', 'encoding', 'version', 'namespaces'])"
      ]
     },
     "execution_count": 5,
     "metadata": {},
     "output_type": "execute_result"
    }
   ],
   "source": [
    "feeds.keys()"
   ]
  },
  {
   "cell_type": "markdown",
   "metadata": {},
   "source": [
    "### 3. Obtain a list of components (keys) that are available for the *feed* component of this RSS feed."
   ]
  },
  {
   "cell_type": "code",
   "execution_count": 6,
   "metadata": {},
   "outputs": [
    {
     "data": {
      "text/plain": [
       "dict_keys(['title', 'title_detail', 'links', 'link', 'subtitle', 'subtitle_detail', 'updated', 'updated_parsed', 'language', 'sy_updateperiod', 'sy_updatefrequency', 'generator_detail', 'generator'])"
      ]
     },
     "execution_count": 6,
     "metadata": {},
     "output_type": "execute_result"
    }
   ],
   "source": [
    "feeds['feed'].keys()"
   ]
  },
  {
   "cell_type": "markdown",
   "metadata": {},
   "source": [
    "### 4. Extract and print the feed title, subtitle, author, and link."
   ]
  },
  {
   "cell_type": "code",
   "execution_count": 14,
   "metadata": {},
   "outputs": [
    {
     "name": "stdout",
     "output_type": "stream",
     "text": [
      "Title: Radar\n",
      "Subtitle: Now, next, and beyond: Tracking need-to-know trends at the intersection of business and technology\n",
      "Link: https://www.oreilly.com/radar\n"
     ]
    }
   ],
   "source": [
    "print(\"Title:\", feeds[\"feed\"][\"title\"])\n",
    "print(\"Subtitle:\", feeds[\"feed\"][\"subtitle\"])\n",
    "print(\"Link:\", feeds[\"feed\"][\"link\"])"
   ]
  },
  {
   "cell_type": "markdown",
   "metadata": {},
   "source": [
    "### 5. Count the number of entries that are contained in this RSS feed."
   ]
  },
  {
   "cell_type": "code",
   "execution_count": 19,
   "metadata": {},
   "outputs": [
    {
     "data": {
      "text/plain": [
       "15"
      ]
     },
     "execution_count": 19,
     "metadata": {},
     "output_type": "execute_result"
    }
   ],
   "source": [
    "len(feeds['entries'])"
   ]
  },
  {
   "cell_type": "markdown",
   "metadata": {},
   "source": [
    "### 6. Obtain a list of components (keys) available for an entry.\n",
    "\n",
    "*Hint: Remember to index first before requesting the keys*"
   ]
  },
  {
   "cell_type": "code",
   "execution_count": 23,
   "metadata": {},
   "outputs": [
    {
     "name": "stdout",
     "output_type": "stream",
     "text": [
      "Components available for the entry: ['title', 'title_detail', 'links', 'link', 'comments', 'published', 'published_parsed', 'authors', 'author', 'author_detail', 'tags', 'id', 'guidislink', 'summary', 'summary_detail', 'content', 'wfw_commentrss', 'slash_comments']\n"
     ]
    }
   ],
   "source": [
    "entry = feeds.entries[0]\n",
    "keys = list(entry.keys())\n",
    "print(\"Components available for the entry:\", keys)"
   ]
  },
  {
   "cell_type": "markdown",
   "metadata": {},
   "source": [
    "### 7. Extract a list of entry titles."
   ]
  },
  {
   "cell_type": "code",
   "execution_count": 34,
   "metadata": {},
   "outputs": [
    {
     "name": "stdout",
     "output_type": "stream",
     "text": [
      "List of entry titles: ['Automating the Automators: Shift Change in the Robot Factory', 'Digesting 2022', 'Radar Trends to Watch: January 2023', 'What Does Copyright Say about Generative Models?', 'Radar Trends to Watch: December 2022', 'AI’s ‘SolarWinds Moment’ Will Occur; It’s Just a Matter of When', 'Technical Health Isn’t Optional', 'Healthy Data', 'Formal Informal Languages', 'Radar Trends to Watch: November 2022', 'What We Learned Auditing Sophisticated AI for Bias', 'The Collaborative Metaverse', 'What Is Hyperautomation?', 'Radar Trends to Watch: October 2022', 'The Problem with Intelligence']\n"
     ]
    }
   ],
   "source": [
    "entry_titles = []\n",
    "for i in feeds.entries:\n",
    "    title = i.title\n",
    "    entry_titles.append(title)\n",
    "print(\"List of entry titles:\", entry_titles)"
   ]
  },
  {
   "cell_type": "markdown",
   "metadata": {},
   "source": [
    "### 8. Calculate the percentage of \"Four short links\" entry titles."
   ]
  },
  {
   "cell_type": "code",
   "execution_count": null,
   "metadata": {},
   "outputs": [],
   "source": [
    "#  me han comentado que no había que hacerla"
   ]
  },
  {
   "cell_type": "markdown",
   "metadata": {},
   "source": [
    "### 9. Create a Pandas data frame from the feed's entries."
   ]
  },
  {
   "cell_type": "code",
   "execution_count": 35,
   "metadata": {},
   "outputs": [],
   "source": [
    "import pandas as pd"
   ]
  },
  {
   "cell_type": "code",
   "execution_count": 46,
   "metadata": {},
   "outputs": [],
   "source": [
    "jelly=pd.DataFrame(feeds['entries'])"
   ]
  },
  {
   "cell_type": "markdown",
   "metadata": {},
   "source": [
    "### 10. Count the number of entries per author and sort them in descending order."
   ]
  },
  {
   "cell_type": "code",
   "execution_count": 52,
   "metadata": {},
   "outputs": [
    {
     "data": {
      "text/plain": [
       "Mike Loukides    12\n",
       "Q McCallum        1\n",
       "Mike Barlow       1\n",
       "Patrick Hall      1\n",
       "Name: author, dtype: int64"
      ]
     },
     "execution_count": 52,
     "metadata": {},
     "output_type": "execute_result"
    }
   ],
   "source": [
    "jelly.author.value_counts()"
   ]
  },
  {
   "cell_type": "markdown",
   "metadata": {},
   "source": [
    "### 11. Add a new column to the data frame that contains the length (number of characters) of each entry title. Return a data frame that contains the title, author, and title length of each entry in descending order (longest title length at the top)."
   ]
  },
  {
   "cell_type": "code",
   "execution_count": 56,
   "metadata": {},
   "outputs": [
    {
     "name": "stdout",
     "output_type": "stream",
     "text": [
      "                                                title  \\\n",
      "0   Automating the Automators: Shift Change in the...   \n",
      "1                                      Digesting 2022   \n",
      "2                 Radar Trends to Watch: January 2023   \n",
      "3    What Does Copyright Say about Generative Models?   \n",
      "4                Radar Trends to Watch: December 2022   \n",
      "5   AI’s ‘SolarWinds Moment’ Will Occur; It’s Just...   \n",
      "6                     Technical Health Isn’t Optional   \n",
      "7                                        Healthy Data   \n",
      "8                           Formal Informal Languages   \n",
      "9                Radar Trends to Watch: November 2022   \n",
      "10  What We Learned Auditing Sophisticated AI for ...   \n",
      "11                        The Collaborative Metaverse   \n",
      "12                           What Is Hyperautomation?   \n",
      "13                Radar Trends to Watch: October 2022   \n",
      "14                      The Problem with Intelligence   \n",
      "\n",
      "                                         title_detail  \\\n",
      "0   {'type': 'text/plain', 'language': None, 'base...   \n",
      "1   {'type': 'text/plain', 'language': None, 'base...   \n",
      "2   {'type': 'text/plain', 'language': None, 'base...   \n",
      "3   {'type': 'text/plain', 'language': None, 'base...   \n",
      "4   {'type': 'text/plain', 'language': None, 'base...   \n",
      "5   {'type': 'text/plain', 'language': None, 'base...   \n",
      "6   {'type': 'text/plain', 'language': None, 'base...   \n",
      "7   {'type': 'text/plain', 'language': None, 'base...   \n",
      "8   {'type': 'text/plain', 'language': None, 'base...   \n",
      "9   {'type': 'text/plain', 'language': None, 'base...   \n",
      "10  {'type': 'text/plain', 'language': None, 'base...   \n",
      "11  {'type': 'text/plain', 'language': None, 'base...   \n",
      "12  {'type': 'text/plain', 'language': None, 'base...   \n",
      "13  {'type': 'text/plain', 'language': None, 'base...   \n",
      "14  {'type': 'text/plain', 'language': None, 'base...   \n",
      "\n",
      "                                                links  \\\n",
      "0   [{'rel': 'alternate', 'type': 'text/html', 'hr...   \n",
      "1   [{'rel': 'alternate', 'type': 'text/html', 'hr...   \n",
      "2   [{'rel': 'alternate', 'type': 'text/html', 'hr...   \n",
      "3   [{'rel': 'alternate', 'type': 'text/html', 'hr...   \n",
      "4   [{'rel': 'alternate', 'type': 'text/html', 'hr...   \n",
      "5   [{'rel': 'alternate', 'type': 'text/html', 'hr...   \n",
      "6   [{'rel': 'alternate', 'type': 'text/html', 'hr...   \n",
      "7   [{'rel': 'alternate', 'type': 'text/html', 'hr...   \n",
      "8   [{'rel': 'alternate', 'type': 'text/html', 'hr...   \n",
      "9   [{'rel': 'alternate', 'type': 'text/html', 'hr...   \n",
      "10  [{'rel': 'alternate', 'type': 'text/html', 'hr...   \n",
      "11  [{'rel': 'alternate', 'type': 'text/html', 'hr...   \n",
      "12  [{'rel': 'alternate', 'type': 'text/html', 'hr...   \n",
      "13  [{'rel': 'alternate', 'type': 'text/html', 'hr...   \n",
      "14  [{'rel': 'alternate', 'type': 'text/html', 'hr...   \n",
      "\n",
      "                                                 link  \\\n",
      "0   https://www.oreilly.com/radar/automating-the-a...   \n",
      "1       https://www.oreilly.com/radar/digesting-2022/   \n",
      "2   https://www.oreilly.com/radar/radar-trends-to-...   \n",
      "3   https://www.oreilly.com/radar/what-does-copyri...   \n",
      "4   https://www.oreilly.com/radar/radar-trends-to-...   \n",
      "5   https://www.oreilly.com/radar/ais-solarwinds-m...   \n",
      "6   https://www.oreilly.com/radar/technical-health...   \n",
      "7         https://www.oreilly.com/radar/healthy-data/   \n",
      "8   https://www.oreilly.com/radar/formal-informal-...   \n",
      "9   https://www.oreilly.com/radar/radar-trends-to-...   \n",
      "10  https://www.oreilly.com/radar/what-we-learned-...   \n",
      "11  https://www.oreilly.com/radar/the-collaborativ...   \n",
      "12  https://www.oreilly.com/radar/what-is-hyperaut...   \n",
      "13  https://www.oreilly.com/radar/radar-trends-to-...   \n",
      "14  https://www.oreilly.com/radar/the-problem-with...   \n",
      "\n",
      "                                             comments  \\\n",
      "0   https://www.oreilly.com/radar/automating-the-a...   \n",
      "1   https://www.oreilly.com/radar/digesting-2022/#...   \n",
      "2   https://www.oreilly.com/radar/radar-trends-to-...   \n",
      "3   https://www.oreilly.com/radar/what-does-copyri...   \n",
      "4   https://www.oreilly.com/radar/radar-trends-to-...   \n",
      "5   https://www.oreilly.com/radar/ais-solarwinds-m...   \n",
      "6   https://www.oreilly.com/radar/technical-health...   \n",
      "7   https://www.oreilly.com/radar/healthy-data/#re...   \n",
      "8   https://www.oreilly.com/radar/formal-informal-...   \n",
      "9   https://www.oreilly.com/radar/radar-trends-to-...   \n",
      "10  https://www.oreilly.com/radar/what-we-learned-...   \n",
      "11  https://www.oreilly.com/radar/the-collaborativ...   \n",
      "12  https://www.oreilly.com/radar/what-is-hyperaut...   \n",
      "13  https://www.oreilly.com/radar/radar-trends-to-...   \n",
      "14  https://www.oreilly.com/radar/the-problem-with...   \n",
      "\n",
      "                          published                       published_parsed  \\\n",
      "0   Tue, 17 Jan 2023 11:33:31 +0000    (2023, 1, 17, 11, 33, 31, 1, 17, 0)   \n",
      "1   Tue, 10 Jan 2023 13:37:13 +0000    (2023, 1, 10, 13, 37, 13, 1, 10, 0)   \n",
      "2   Wed, 04 Jan 2023 11:53:08 +0000       (2023, 1, 4, 11, 53, 8, 2, 4, 0)   \n",
      "3   Tue, 13 Dec 2022 12:22:38 +0000  (2022, 12, 13, 12, 22, 38, 1, 347, 0)   \n",
      "4   Tue, 06 Dec 2022 12:21:48 +0000   (2022, 12, 6, 12, 21, 48, 1, 340, 0)   \n",
      "5   Tue, 29 Nov 2022 12:36:46 +0000  (2022, 11, 29, 12, 36, 46, 1, 333, 0)   \n",
      "6   Tue, 22 Nov 2022 12:25:18 +0000  (2022, 11, 22, 12, 25, 18, 1, 326, 0)   \n",
      "7   Tue, 15 Nov 2022 15:18:53 +0000  (2022, 11, 15, 15, 18, 53, 1, 319, 0)   \n",
      "8   Tue, 08 Nov 2022 11:58:09 +0000    (2022, 11, 8, 11, 58, 9, 1, 312, 0)   \n",
      "9   Tue, 01 Nov 2022 11:15:57 +0000   (2022, 11, 1, 11, 15, 57, 1, 305, 0)   \n",
      "10  Tue, 18 Oct 2022 11:14:23 +0000  (2022, 10, 18, 11, 14, 23, 1, 291, 0)   \n",
      "11  Wed, 12 Oct 2022 20:01:45 +0000   (2022, 10, 12, 20, 1, 45, 2, 285, 0)   \n",
      "12  Tue, 11 Oct 2022 10:59:21 +0000  (2022, 10, 11, 10, 59, 21, 1, 284, 0)   \n",
      "13  Tue, 04 Oct 2022 11:15:42 +0000   (2022, 10, 4, 11, 15, 42, 1, 277, 0)   \n",
      "14  Tue, 13 Sep 2022 11:21:40 +0000   (2022, 9, 13, 11, 21, 40, 1, 256, 0)   \n",
      "\n",
      "                        authors         author              author_detail  \\\n",
      "0      [{'name': 'Q McCallum'}]     Q McCallum     {'name': 'Q McCallum'}   \n",
      "1   [{'name': 'Mike Loukides'}]  Mike Loukides  {'name': 'Mike Loukides'}   \n",
      "2   [{'name': 'Mike Loukides'}]  Mike Loukides  {'name': 'Mike Loukides'}   \n",
      "3   [{'name': 'Mike Loukides'}]  Mike Loukides  {'name': 'Mike Loukides'}   \n",
      "4   [{'name': 'Mike Loukides'}]  Mike Loukides  {'name': 'Mike Loukides'}   \n",
      "5     [{'name': 'Mike Barlow'}]    Mike Barlow    {'name': 'Mike Barlow'}   \n",
      "6   [{'name': 'Mike Loukides'}]  Mike Loukides  {'name': 'Mike Loukides'}   \n",
      "7   [{'name': 'Mike Loukides'}]  Mike Loukides  {'name': 'Mike Loukides'}   \n",
      "8   [{'name': 'Mike Loukides'}]  Mike Loukides  {'name': 'Mike Loukides'}   \n",
      "9   [{'name': 'Mike Loukides'}]  Mike Loukides  {'name': 'Mike Loukides'}   \n",
      "10   [{'name': 'Patrick Hall'}]   Patrick Hall   {'name': 'Patrick Hall'}   \n",
      "11  [{'name': 'Mike Loukides'}]  Mike Loukides  {'name': 'Mike Loukides'}   \n",
      "12  [{'name': 'Mike Loukides'}]  Mike Loukides  {'name': 'Mike Loukides'}   \n",
      "13  [{'name': 'Mike Loukides'}]  Mike Loukides  {'name': 'Mike Loukides'}   \n",
      "14  [{'name': 'Mike Loukides'}]  Mike Loukides  {'name': 'Mike Loukides'}   \n",
      "\n",
      "                                                 tags  \\\n",
      "0   [{'term': 'AI & ML', 'scheme': None, 'label': ...   \n",
      "1   [{'term': 'AI & ML', 'scheme': None, 'label': ...   \n",
      "2   [{'term': 'Radar Trends', 'scheme': None, 'lab...   \n",
      "3   [{'term': 'Artificial Intelligence', 'scheme':...   \n",
      "4   [{'term': 'Radar Trends', 'scheme': None, 'lab...   \n",
      "5   [{'term': 'AI & ML', 'scheme': None, 'label': ...   \n",
      "6   [{'term': 'Open Source', 'scheme': None, 'labe...   \n",
      "7   [{'term': 'Data', 'scheme': None, 'label': Non...   \n",
      "8   [{'term': 'Programming', 'scheme': None, 'labe...   \n",
      "9   [{'term': 'Radar Trends', 'scheme': None, 'lab...   \n",
      "10  [{'term': 'AI & ML', 'scheme': None, 'label': ...   \n",
      "11  [{'term': 'Metaverse', 'scheme': None, 'label'...   \n",
      "12  [{'term': 'AI & ML', 'scheme': None, 'label': ...   \n",
      "13  [{'term': 'Radar Trends', 'scheme': None, 'lab...   \n",
      "14  [{'term': 'Artificial Intelligence', 'scheme':...   \n",
      "\n",
      "                                        id  guidislink  \\\n",
      "0   https://www.oreilly.com/radar/?p=14841       False   \n",
      "1   https://www.oreilly.com/radar/?p=14837       False   \n",
      "2   https://www.oreilly.com/radar/?p=14826       False   \n",
      "3   https://www.oreilly.com/radar/?p=14806       False   \n",
      "4   https://www.oreilly.com/radar/?p=14799       False   \n",
      "5   https://www.oreilly.com/radar/?p=14792       False   \n",
      "6   https://www.oreilly.com/radar/?p=14780       False   \n",
      "7   https://www.oreilly.com/radar/?p=14784       False   \n",
      "8   https://www.oreilly.com/radar/?p=14772       False   \n",
      "9   https://www.oreilly.com/radar/?p=14760       False   \n",
      "10  https://www.oreilly.com/radar/?p=14754       False   \n",
      "11  https://www.oreilly.com/radar/?p=14750       False   \n",
      "12  https://www.oreilly.com/radar/?p=14733       False   \n",
      "13  https://www.oreilly.com/radar/?p=14726       False   \n",
      "14  https://www.oreilly.com/radar/?p=14718       False   \n",
      "\n",
      "                                              summary  \\\n",
      "0   What would you say is the job of a software de...   \n",
      "1   Although I don’t subscribe to the idea that hi...   \n",
      "2   Perhaps unsurprisingly, December was a slow mo...   \n",
      "3   The current generation of flashy AI applicatio...   \n",
      "4   This month’s news has been overshadowed by the...   \n",
      "5   Major catastrophes can transform industries an...   \n",
      "6   If every company is a technology company, then...   \n",
      "7   This summer, we started asking about “technica...   \n",
      "8   We’ve all been impressed by the generative art...   \n",
      "9   Maintaining a separate category for AI is gett...   \n",
      "10  A recently passed law in New York City require...   \n",
      "11  We want to congratulate Dylan Field on his sta...   \n",
      "12  Gartner has anointed “Hyperautomation” one of ...   \n",
      "13  September was a busy month. In addition to con...   \n",
      "14  Projects like OpenAI’s DALL-E and DeepMind’s G...   \n",
      "\n",
      "                                       summary_detail  \\\n",
      "0   {'type': 'text/html', 'language': None, 'base'...   \n",
      "1   {'type': 'text/html', 'language': None, 'base'...   \n",
      "2   {'type': 'text/html', 'language': None, 'base'...   \n",
      "3   {'type': 'text/html', 'language': None, 'base'...   \n",
      "4   {'type': 'text/html', 'language': None, 'base'...   \n",
      "5   {'type': 'text/html', 'language': None, 'base'...   \n",
      "6   {'type': 'text/html', 'language': None, 'base'...   \n",
      "7   {'type': 'text/html', 'language': None, 'base'...   \n",
      "8   {'type': 'text/html', 'language': None, 'base'...   \n",
      "9   {'type': 'text/html', 'language': None, 'base'...   \n",
      "10  {'type': 'text/html', 'language': None, 'base'...   \n",
      "11  {'type': 'text/html', 'language': None, 'base'...   \n",
      "12  {'type': 'text/html', 'language': None, 'base'...   \n",
      "13  {'type': 'text/html', 'language': None, 'base'...   \n",
      "14  {'type': 'text/html', 'language': None, 'base'...   \n",
      "\n",
      "                                              content  \\\n",
      "0   [{'type': 'text/html', 'language': None, 'base...   \n",
      "1   [{'type': 'text/html', 'language': None, 'base...   \n",
      "2   [{'type': 'text/html', 'language': None, 'base...   \n",
      "3   [{'type': 'text/html', 'language': None, 'base...   \n",
      "4   [{'type': 'text/html', 'language': None, 'base...   \n",
      "5   [{'type': 'text/html', 'language': None, 'base...   \n",
      "6   [{'type': 'text/html', 'language': None, 'base...   \n",
      "7   [{'type': 'text/html', 'language': None, 'base...   \n",
      "8   [{'type': 'text/html', 'language': None, 'base...   \n",
      "9   [{'type': 'text/html', 'language': None, 'base...   \n",
      "10  [{'type': 'text/html', 'language': None, 'base...   \n",
      "11  [{'type': 'text/html', 'language': None, 'base...   \n",
      "12  [{'type': 'text/html', 'language': None, 'base...   \n",
      "13  [{'type': 'text/html', 'language': None, 'base...   \n",
      "14  [{'type': 'text/html', 'language': None, 'base...   \n",
      "\n",
      "                                       wfw_commentrss slash_comments  \\\n",
      "0   https://www.oreilly.com/radar/automating-the-a...              0   \n",
      "1   https://www.oreilly.com/radar/digesting-2022/f...              0   \n",
      "2   https://www.oreilly.com/radar/radar-trends-to-...              0   \n",
      "3   https://www.oreilly.com/radar/what-does-copyri...              0   \n",
      "4   https://www.oreilly.com/radar/radar-trends-to-...              0   \n",
      "5   https://www.oreilly.com/radar/ais-solarwinds-m...              0   \n",
      "6   https://www.oreilly.com/radar/technical-health...              0   \n",
      "7    https://www.oreilly.com/radar/healthy-data/feed/              0   \n",
      "8   https://www.oreilly.com/radar/formal-informal-...              0   \n",
      "9   https://www.oreilly.com/radar/radar-trends-to-...              0   \n",
      "10  https://www.oreilly.com/radar/what-we-learned-...              0   \n",
      "11  https://www.oreilly.com/radar/the-collaborativ...              0   \n",
      "12  https://www.oreilly.com/radar/what-is-hyperaut...              0   \n",
      "13  https://www.oreilly.com/radar/radar-trends-to-...              0   \n",
      "14  https://www.oreilly.com/radar/the-problem-with...              0   \n",
      "\n",
      "    title_length  \n",
      "0             60  \n",
      "1             14  \n",
      "2             35  \n",
      "3             48  \n",
      "4             36  \n",
      "5             63  \n",
      "6             31  \n",
      "7             12  \n",
      "8             25  \n",
      "9             36  \n",
      "10            50  \n",
      "11            27  \n",
      "12            24  \n",
      "13            35  \n",
      "14            29  \n"
     ]
    }
   ],
   "source": [
    "jelly['title_length'] = jelly['title'].str.len()  \n",
    "sorted_jelly = jelly.sort_values(by='title_length', ascending=False)\n",
    "print(jelly)\n",
    " \n"
   ]
  },
  {
   "cell_type": "markdown",
   "metadata": {},
   "source": [
    "### 12. Create a list of entry titles whose summary includes the phrase \"machine learning.\""
   ]
  },
  {
   "cell_type": "code",
   "execution_count": 58,
   "metadata": {},
   "outputs": [
    {
     "name": "stdout",
     "output_type": "stream",
     "text": [
      "List of entry titles containing the phrase 'machine learning':\n",
      "['Radar Trends to Watch: October 2022']\n"
     ]
    }
   ],
   "source": [
    "entry_titles = []\n",
    "for entry in feeds.entries:\n",
    "    if \"machine learning\" in entry.summary:\n",
    "        entry_titles.append(entry.title)\n",
    "print(\"List of entry titles containing the phrase 'machine learning':\")\n",
    "print(entry_titles)"
   ]
  },
  {
   "cell_type": "code",
   "execution_count": null,
   "metadata": {},
   "outputs": [],
   "source": []
  }
 ],
 "metadata": {
  "kernelspec": {
   "display_name": "Python 3 (ipykernel)",
   "language": "python",
   "name": "python3"
  },
  "language_info": {
   "codemirror_mode": {
    "name": "ipython",
    "version": 3
   },
   "file_extension": ".py",
   "mimetype": "text/x-python",
   "name": "python",
   "nbconvert_exporter": "python",
   "pygments_lexer": "ipython3",
   "version": "3.9.13"
  }
 },
 "nbformat": 4,
 "nbformat_minor": 2
}
