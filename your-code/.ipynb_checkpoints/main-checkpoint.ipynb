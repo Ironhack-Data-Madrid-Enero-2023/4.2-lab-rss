{
 "cells": [
  {
   "cell_type": "markdown",
   "metadata": {},
   "source": [
    "# Working with RSS Feeds Lab\n",
    "\n",
    "Complete the following set of exercises to solidify your knowledge of parsing RSS feeds and extracting information from them."
   ]
  },
  {
   "cell_type": "code",
   "execution_count": 2,
   "metadata": {},
   "outputs": [
    {
     "name": "stdout",
     "output_type": "stream",
     "text": [
      "Collecting feedparser\n",
      "  Downloading feedparser-6.0.10-py3-none-any.whl (81 kB)\n",
      "     -------------------------------------- 81.1/81.1 kB 506.2 kB/s eta 0:00:00\n",
      "Collecting sgmllib3k\n",
      "  Downloading sgmllib3k-1.0.0.tar.gz (5.8 kB)\n",
      "  Preparing metadata (setup.py): started\n",
      "  Preparing metadata (setup.py): finished with status 'done'\n",
      "Building wheels for collected packages: sgmllib3k\n",
      "  Building wheel for sgmllib3k (setup.py): started\n",
      "  Building wheel for sgmllib3k (setup.py): finished with status 'done'\n",
      "  Created wheel for sgmllib3k: filename=sgmllib3k-1.0.0-py3-none-any.whl size=6048 sha256=c11abeeccfb16cf96a388436c6119dca30206f3dd13ad86bdda1216f9939885d\n",
      "  Stored in directory: c:\\users\\usuario\\appdata\\local\\pip\\cache\\wheels\\65\\7a\\a7\\78c287f64e401255dff4c13fdbc672fed5efbfd21c530114e1\n",
      "Successfully built sgmllib3k\n",
      "Installing collected packages: sgmllib3k, feedparser\n",
      "Successfully installed feedparser-6.0.10 sgmllib3k-1.0.0\n",
      "Note: you may need to restart the kernel to use updated packages.\n"
     ]
    }
   ],
   "source": [
    "%pip install feedparser"
   ]
  },
  {
   "cell_type": "code",
   "execution_count": 3,
   "metadata": {
    "scrolled": true
   },
   "outputs": [],
   "source": [
    "import feedparser"
   ]
  },
  {
   "cell_type": "markdown",
   "metadata": {},
   "source": [
    "### 1. Use feedparser to parse the following RSS feed URL."
   ]
  },
  {
   "cell_type": "code",
   "execution_count": 5,
   "metadata": {},
   "outputs": [],
   "source": [
    "burner = feedparser.parse('http://feeds.feedburner.com/oreilly/radar/atom')"
   ]
  },
  {
   "cell_type": "code",
   "execution_count": null,
   "metadata": {},
   "outputs": [],
   "source": []
  },
  {
   "cell_type": "markdown",
   "metadata": {},
   "source": [
    "### 2. Obtain a list of components (keys) that are available for this feed."
   ]
  },
  {
   "cell_type": "code",
   "execution_count": 6,
   "metadata": {},
   "outputs": [
    {
     "data": {
      "text/plain": [
       "dict_keys(['bozo', 'entries', 'feed', 'headers', 'updated', 'updated_parsed', 'href', 'status', 'encoding', 'version', 'namespaces'])"
      ]
     },
     "execution_count": 6,
     "metadata": {},
     "output_type": "execute_result"
    }
   ],
   "source": [
    "burner.keys()"
   ]
  },
  {
   "cell_type": "markdown",
   "metadata": {},
   "source": [
    "### 3. Obtain a list of components (keys) that are available for the *feed* component of this RSS feed."
   ]
  },
  {
   "cell_type": "code",
   "execution_count": 7,
   "metadata": {},
   "outputs": [
    {
     "data": {
      "text/plain": [
       "dict_keys(['title', 'title_detail', 'links', 'link', 'subtitle', 'subtitle_detail', 'updated', 'updated_parsed', 'language', 'sy_updateperiod', 'sy_updatefrequency', 'generator_detail', 'generator'])"
      ]
     },
     "execution_count": 7,
     "metadata": {},
     "output_type": "execute_result"
    }
   ],
   "source": [
    "burner['feed'].keys()"
   ]
  },
  {
   "cell_type": "markdown",
   "metadata": {},
   "source": [
    "### 4. Extract and print the feed title, subtitle, author, and link."
   ]
  },
  {
   "cell_type": "code",
   "execution_count": 12,
   "metadata": {},
   "outputs": [
    {
     "data": {
      "text/plain": [
       "'Radar'"
      ]
     },
     "execution_count": 12,
     "metadata": {},
     "output_type": "execute_result"
    }
   ],
   "source": [
    "burner['feed']['title']"
   ]
  },
  {
   "cell_type": "code",
   "execution_count": 13,
   "metadata": {},
   "outputs": [
    {
     "data": {
      "text/plain": [
       "'Now, next, and beyond: Tracking need-to-know trends at the intersection of business and technology'"
      ]
     },
     "execution_count": 13,
     "metadata": {},
     "output_type": "execute_result"
    }
   ],
   "source": [
    "burner['feed']['subtitle']"
   ]
  },
  {
   "cell_type": "code",
   "execution_count": 14,
   "metadata": {},
   "outputs": [
    {
     "data": {
      "text/plain": [
       "'https://www.oreilly.com/radar'"
      ]
     },
     "execution_count": 14,
     "metadata": {},
     "output_type": "execute_result"
    }
   ],
   "source": [
    "burner['feed']['link']"
   ]
  },
  {
   "cell_type": "code",
   "execution_count": null,
   "metadata": {},
   "outputs": [],
   "source": [
    "#author no se encuentra ya que ya no aparece en las Keys de 'Feed'."
   ]
  },
  {
   "cell_type": "markdown",
   "metadata": {},
   "source": [
    "### 5. Count the number of entries that are contained in this RSS feed."
   ]
  },
  {
   "cell_type": "code",
   "execution_count": 15,
   "metadata": {},
   "outputs": [
    {
     "data": {
      "text/plain": [
       "11"
      ]
     },
     "execution_count": 15,
     "metadata": {},
     "output_type": "execute_result"
    }
   ],
   "source": [
    "len(burner)"
   ]
  },
  {
   "cell_type": "markdown",
   "metadata": {},
   "source": [
    "### 6. Obtain a list of components (keys) available for an entry.\n",
    "\n",
    "*Hint: Remember to index first before requesting the keys*"
   ]
  },
  {
   "cell_type": "code",
   "execution_count": 16,
   "metadata": {},
   "outputs": [
    {
     "data": {
      "text/plain": [
       "dict_keys(['title', 'title_detail', 'links', 'link', 'comments', 'published', 'published_parsed', 'authors', 'author', 'author_detail', 'tags', 'id', 'guidislink', 'summary', 'summary_detail', 'content', 'wfw_commentrss', 'slash_comments'])"
      ]
     },
     "execution_count": 16,
     "metadata": {},
     "output_type": "execute_result"
    }
   ],
   "source": [
    "burner['entries'][0].keys()"
   ]
  },
  {
   "cell_type": "markdown",
   "metadata": {},
   "source": [
    "### 7. Extract a list of entry titles."
   ]
  },
  {
   "cell_type": "code",
   "execution_count": 21,
   "metadata": {},
   "outputs": [
    {
     "name": "stdout",
     "output_type": "stream",
     "text": [
      "['Automating the Automators: Shift Change in the Robot Factory', 'Digesting 2022', 'Radar Trends to Watch: January 2023', 'What Does Copyright Say about Generative Models?', 'Radar Trends to Watch: December 2022', 'AI’s ‘SolarWinds Moment’ Will Occur; It’s Just a Matter of When', 'Technical Health Isn’t Optional', 'Healthy Data', 'Formal Informal Languages', 'Radar Trends to Watch: November 2022', 'What We Learned Auditing Sophisticated AI for Bias', 'The Collaborative Metaverse', 'What Is Hyperautomation?', 'Radar Trends to Watch: October 2022', 'The Problem with Intelligence']\n"
     ]
    }
   ],
   "source": [
    "titles = [item.title for item in burner.entries]\n",
    "print(titles)"
   ]
  },
  {
   "cell_type": "markdown",
   "metadata": {},
   "source": [
    "### 8. Calculate the percentage of \"Four short links\" entry titles."
   ]
  },
  {
   "cell_type": "code",
   "execution_count": null,
   "metadata": {},
   "outputs": [],
   "source": []
  },
  {
   "cell_type": "markdown",
   "metadata": {},
   "source": [
    "### 9. Create a Pandas data frame from the feed's entries."
   ]
  },
  {
   "cell_type": "code",
   "execution_count": 22,
   "metadata": {},
   "outputs": [],
   "source": [
    "import pandas as pd"
   ]
  },
  {
   "cell_type": "code",
   "execution_count": 31,
   "metadata": {},
   "outputs": [],
   "source": [
    "df= pd.DataFrame(burner['entries'])"
   ]
  },
  {
   "cell_type": "code",
   "execution_count": 32,
   "metadata": {},
   "outputs": [
    {
     "data": {
      "text/html": [
       "<div>\n",
       "<style scoped>\n",
       "    .dataframe tbody tr th:only-of-type {\n",
       "        vertical-align: middle;\n",
       "    }\n",
       "\n",
       "    .dataframe tbody tr th {\n",
       "        vertical-align: top;\n",
       "    }\n",
       "\n",
       "    .dataframe thead th {\n",
       "        text-align: right;\n",
       "    }\n",
       "</style>\n",
       "<table border=\"1\" class=\"dataframe\">\n",
       "  <thead>\n",
       "    <tr style=\"text-align: right;\">\n",
       "      <th></th>\n",
       "      <th>title</th>\n",
       "      <th>title_detail</th>\n",
       "      <th>links</th>\n",
       "      <th>link</th>\n",
       "      <th>comments</th>\n",
       "      <th>published</th>\n",
       "      <th>published_parsed</th>\n",
       "      <th>authors</th>\n",
       "      <th>author</th>\n",
       "      <th>author_detail</th>\n",
       "      <th>tags</th>\n",
       "      <th>id</th>\n",
       "      <th>guidislink</th>\n",
       "      <th>summary</th>\n",
       "      <th>summary_detail</th>\n",
       "      <th>content</th>\n",
       "      <th>wfw_commentrss</th>\n",
       "      <th>slash_comments</th>\n",
       "    </tr>\n",
       "  </thead>\n",
       "  <tbody>\n",
       "    <tr>\n",
       "      <th>0</th>\n",
       "      <td>Automating the Automators: Shift Change in the...</td>\n",
       "      <td>{'type': 'text/plain', 'language': None, 'base...</td>\n",
       "      <td>[{'rel': 'alternate', 'type': 'text/html', 'hr...</td>\n",
       "      <td>https://www.oreilly.com/radar/automating-the-a...</td>\n",
       "      <td>https://www.oreilly.com/radar/automating-the-a...</td>\n",
       "      <td>Tue, 17 Jan 2023 11:33:31 +0000</td>\n",
       "      <td>(2023, 1, 17, 11, 33, 31, 1, 17, 0)</td>\n",
       "      <td>[{'name': 'Q McCallum'}]</td>\n",
       "      <td>Q McCallum</td>\n",
       "      <td>{'name': 'Q McCallum'}</td>\n",
       "      <td>[{'term': 'AI &amp; ML', 'scheme': None, 'label': ...</td>\n",
       "      <td>https://www.oreilly.com/radar/?p=14841</td>\n",
       "      <td>False</td>\n",
       "      <td>What would you say is the job of a software de...</td>\n",
       "      <td>{'type': 'text/html', 'language': None, 'base'...</td>\n",
       "      <td>[{'type': 'text/html', 'language': None, 'base...</td>\n",
       "      <td>https://www.oreilly.com/radar/automating-the-a...</td>\n",
       "      <td>0</td>\n",
       "    </tr>\n",
       "    <tr>\n",
       "      <th>1</th>\n",
       "      <td>Digesting 2022</td>\n",
       "      <td>{'type': 'text/plain', 'language': None, 'base...</td>\n",
       "      <td>[{'rel': 'alternate', 'type': 'text/html', 'hr...</td>\n",
       "      <td>https://www.oreilly.com/radar/digesting-2022/</td>\n",
       "      <td>https://www.oreilly.com/radar/digesting-2022/#...</td>\n",
       "      <td>Tue, 10 Jan 2023 13:37:13 +0000</td>\n",
       "      <td>(2023, 1, 10, 13, 37, 13, 1, 10, 0)</td>\n",
       "      <td>[{'name': 'Mike Loukides'}]</td>\n",
       "      <td>Mike Loukides</td>\n",
       "      <td>{'name': 'Mike Loukides'}</td>\n",
       "      <td>[{'term': 'AI &amp; ML', 'scheme': None, 'label': ...</td>\n",
       "      <td>https://www.oreilly.com/radar/?p=14837</td>\n",
       "      <td>False</td>\n",
       "      <td>Although I don’t subscribe to the idea that hi...</td>\n",
       "      <td>{'type': 'text/html', 'language': None, 'base'...</td>\n",
       "      <td>[{'type': 'text/html', 'language': None, 'base...</td>\n",
       "      <td>https://www.oreilly.com/radar/digesting-2022/f...</td>\n",
       "      <td>0</td>\n",
       "    </tr>\n",
       "    <tr>\n",
       "      <th>2</th>\n",
       "      <td>Radar Trends to Watch: January 2023</td>\n",
       "      <td>{'type': 'text/plain', 'language': None, 'base...</td>\n",
       "      <td>[{'rel': 'alternate', 'type': 'text/html', 'hr...</td>\n",
       "      <td>https://www.oreilly.com/radar/radar-trends-to-...</td>\n",
       "      <td>https://www.oreilly.com/radar/radar-trends-to-...</td>\n",
       "      <td>Wed, 04 Jan 2023 11:53:08 +0000</td>\n",
       "      <td>(2023, 1, 4, 11, 53, 8, 2, 4, 0)</td>\n",
       "      <td>[{'name': 'Mike Loukides'}]</td>\n",
       "      <td>Mike Loukides</td>\n",
       "      <td>{'name': 'Mike Loukides'}</td>\n",
       "      <td>[{'term': 'Radar Trends', 'scheme': None, 'lab...</td>\n",
       "      <td>https://www.oreilly.com/radar/?p=14826</td>\n",
       "      <td>False</td>\n",
       "      <td>Perhaps unsurprisingly, December was a slow mo...</td>\n",
       "      <td>{'type': 'text/html', 'language': None, 'base'...</td>\n",
       "      <td>[{'type': 'text/html', 'language': None, 'base...</td>\n",
       "      <td>https://www.oreilly.com/radar/radar-trends-to-...</td>\n",
       "      <td>0</td>\n",
       "    </tr>\n",
       "    <tr>\n",
       "      <th>3</th>\n",
       "      <td>What Does Copyright Say about Generative Models?</td>\n",
       "      <td>{'type': 'text/plain', 'language': None, 'base...</td>\n",
       "      <td>[{'rel': 'alternate', 'type': 'text/html', 'hr...</td>\n",
       "      <td>https://www.oreilly.com/radar/what-does-copyri...</td>\n",
       "      <td>https://www.oreilly.com/radar/what-does-copyri...</td>\n",
       "      <td>Tue, 13 Dec 2022 12:22:38 +0000</td>\n",
       "      <td>(2022, 12, 13, 12, 22, 38, 1, 347, 0)</td>\n",
       "      <td>[{'name': 'Mike Loukides'}]</td>\n",
       "      <td>Mike Loukides</td>\n",
       "      <td>{'name': 'Mike Loukides'}</td>\n",
       "      <td>[{'term': 'Artificial Intelligence', 'scheme':...</td>\n",
       "      <td>https://www.oreilly.com/radar/?p=14806</td>\n",
       "      <td>False</td>\n",
       "      <td>The current generation of flashy AI applicatio...</td>\n",
       "      <td>{'type': 'text/html', 'language': None, 'base'...</td>\n",
       "      <td>[{'type': 'text/html', 'language': None, 'base...</td>\n",
       "      <td>https://www.oreilly.com/radar/what-does-copyri...</td>\n",
       "      <td>0</td>\n",
       "    </tr>\n",
       "    <tr>\n",
       "      <th>4</th>\n",
       "      <td>Radar Trends to Watch: December 2022</td>\n",
       "      <td>{'type': 'text/plain', 'language': None, 'base...</td>\n",
       "      <td>[{'rel': 'alternate', 'type': 'text/html', 'hr...</td>\n",
       "      <td>https://www.oreilly.com/radar/radar-trends-to-...</td>\n",
       "      <td>https://www.oreilly.com/radar/radar-trends-to-...</td>\n",
       "      <td>Tue, 06 Dec 2022 12:21:48 +0000</td>\n",
       "      <td>(2022, 12, 6, 12, 21, 48, 1, 340, 0)</td>\n",
       "      <td>[{'name': 'Mike Loukides'}]</td>\n",
       "      <td>Mike Loukides</td>\n",
       "      <td>{'name': 'Mike Loukides'}</td>\n",
       "      <td>[{'term': 'Radar Trends', 'scheme': None, 'lab...</td>\n",
       "      <td>https://www.oreilly.com/radar/?p=14799</td>\n",
       "      <td>False</td>\n",
       "      <td>This month’s news has been overshadowed by the...</td>\n",
       "      <td>{'type': 'text/html', 'language': None, 'base'...</td>\n",
       "      <td>[{'type': 'text/html', 'language': None, 'base...</td>\n",
       "      <td>https://www.oreilly.com/radar/radar-trends-to-...</td>\n",
       "      <td>0</td>\n",
       "    </tr>\n",
       "    <tr>\n",
       "      <th>5</th>\n",
       "      <td>AI’s ‘SolarWinds Moment’ Will Occur; It’s Just...</td>\n",
       "      <td>{'type': 'text/plain', 'language': None, 'base...</td>\n",
       "      <td>[{'rel': 'alternate', 'type': 'text/html', 'hr...</td>\n",
       "      <td>https://www.oreilly.com/radar/ais-solarwinds-m...</td>\n",
       "      <td>https://www.oreilly.com/radar/ais-solarwinds-m...</td>\n",
       "      <td>Tue, 29 Nov 2022 12:36:46 +0000</td>\n",
       "      <td>(2022, 11, 29, 12, 36, 46, 1, 333, 0)</td>\n",
       "      <td>[{'name': 'Mike Barlow'}]</td>\n",
       "      <td>Mike Barlow</td>\n",
       "      <td>{'name': 'Mike Barlow'}</td>\n",
       "      <td>[{'term': 'AI &amp; ML', 'scheme': None, 'label': ...</td>\n",
       "      <td>https://www.oreilly.com/radar/?p=14792</td>\n",
       "      <td>False</td>\n",
       "      <td>Major catastrophes can transform industries an...</td>\n",
       "      <td>{'type': 'text/html', 'language': None, 'base'...</td>\n",
       "      <td>[{'type': 'text/html', 'language': None, 'base...</td>\n",
       "      <td>https://www.oreilly.com/radar/ais-solarwinds-m...</td>\n",
       "      <td>0</td>\n",
       "    </tr>\n",
       "    <tr>\n",
       "      <th>6</th>\n",
       "      <td>Technical Health Isn’t Optional</td>\n",
       "      <td>{'type': 'text/plain', 'language': None, 'base...</td>\n",
       "      <td>[{'rel': 'alternate', 'type': 'text/html', 'hr...</td>\n",
       "      <td>https://www.oreilly.com/radar/technical-health...</td>\n",
       "      <td>https://www.oreilly.com/radar/technical-health...</td>\n",
       "      <td>Tue, 22 Nov 2022 12:25:18 +0000</td>\n",
       "      <td>(2022, 11, 22, 12, 25, 18, 1, 326, 0)</td>\n",
       "      <td>[{'name': 'Mike Loukides'}]</td>\n",
       "      <td>Mike Loukides</td>\n",
       "      <td>{'name': 'Mike Loukides'}</td>\n",
       "      <td>[{'term': 'Open Source', 'scheme': None, 'labe...</td>\n",
       "      <td>https://www.oreilly.com/radar/?p=14780</td>\n",
       "      <td>False</td>\n",
       "      <td>If every company is a technology company, then...</td>\n",
       "      <td>{'type': 'text/html', 'language': None, 'base'...</td>\n",
       "      <td>[{'type': 'text/html', 'language': None, 'base...</td>\n",
       "      <td>https://www.oreilly.com/radar/technical-health...</td>\n",
       "      <td>0</td>\n",
       "    </tr>\n",
       "    <tr>\n",
       "      <th>7</th>\n",
       "      <td>Healthy Data</td>\n",
       "      <td>{'type': 'text/plain', 'language': None, 'base...</td>\n",
       "      <td>[{'rel': 'alternate', 'type': 'text/html', 'hr...</td>\n",
       "      <td>https://www.oreilly.com/radar/healthy-data/</td>\n",
       "      <td>https://www.oreilly.com/radar/healthy-data/#re...</td>\n",
       "      <td>Tue, 15 Nov 2022 15:18:53 +0000</td>\n",
       "      <td>(2022, 11, 15, 15, 18, 53, 1, 319, 0)</td>\n",
       "      <td>[{'name': 'Mike Loukides'}]</td>\n",
       "      <td>Mike Loukides</td>\n",
       "      <td>{'name': 'Mike Loukides'}</td>\n",
       "      <td>[{'term': 'Data', 'scheme': None, 'label': Non...</td>\n",
       "      <td>https://www.oreilly.com/radar/?p=14784</td>\n",
       "      <td>False</td>\n",
       "      <td>This summer, we started asking about “technica...</td>\n",
       "      <td>{'type': 'text/html', 'language': None, 'base'...</td>\n",
       "      <td>[{'type': 'text/html', 'language': None, 'base...</td>\n",
       "      <td>https://www.oreilly.com/radar/healthy-data/feed/</td>\n",
       "      <td>0</td>\n",
       "    </tr>\n",
       "    <tr>\n",
       "      <th>8</th>\n",
       "      <td>Formal Informal Languages</td>\n",
       "      <td>{'type': 'text/plain', 'language': None, 'base...</td>\n",
       "      <td>[{'rel': 'alternate', 'type': 'text/html', 'hr...</td>\n",
       "      <td>https://www.oreilly.com/radar/formal-informal-...</td>\n",
       "      <td>https://www.oreilly.com/radar/formal-informal-...</td>\n",
       "      <td>Tue, 08 Nov 2022 11:58:09 +0000</td>\n",
       "      <td>(2022, 11, 8, 11, 58, 9, 1, 312, 0)</td>\n",
       "      <td>[{'name': 'Mike Loukides'}]</td>\n",
       "      <td>Mike Loukides</td>\n",
       "      <td>{'name': 'Mike Loukides'}</td>\n",
       "      <td>[{'term': 'Programming', 'scheme': None, 'labe...</td>\n",
       "      <td>https://www.oreilly.com/radar/?p=14772</td>\n",
       "      <td>False</td>\n",
       "      <td>We’ve all been impressed by the generative art...</td>\n",
       "      <td>{'type': 'text/html', 'language': None, 'base'...</td>\n",
       "      <td>[{'type': 'text/html', 'language': None, 'base...</td>\n",
       "      <td>https://www.oreilly.com/radar/formal-informal-...</td>\n",
       "      <td>0</td>\n",
       "    </tr>\n",
       "    <tr>\n",
       "      <th>9</th>\n",
       "      <td>Radar Trends to Watch: November 2022</td>\n",
       "      <td>{'type': 'text/plain', 'language': None, 'base...</td>\n",
       "      <td>[{'rel': 'alternate', 'type': 'text/html', 'hr...</td>\n",
       "      <td>https://www.oreilly.com/radar/radar-trends-to-...</td>\n",
       "      <td>https://www.oreilly.com/radar/radar-trends-to-...</td>\n",
       "      <td>Tue, 01 Nov 2022 11:15:57 +0000</td>\n",
       "      <td>(2022, 11, 1, 11, 15, 57, 1, 305, 0)</td>\n",
       "      <td>[{'name': 'Mike Loukides'}]</td>\n",
       "      <td>Mike Loukides</td>\n",
       "      <td>{'name': 'Mike Loukides'}</td>\n",
       "      <td>[{'term': 'Radar Trends', 'scheme': None, 'lab...</td>\n",
       "      <td>https://www.oreilly.com/radar/?p=14760</td>\n",
       "      <td>False</td>\n",
       "      <td>Maintaining a separate category for AI is gett...</td>\n",
       "      <td>{'type': 'text/html', 'language': None, 'base'...</td>\n",
       "      <td>[{'type': 'text/html', 'language': None, 'base...</td>\n",
       "      <td>https://www.oreilly.com/radar/radar-trends-to-...</td>\n",
       "      <td>0</td>\n",
       "    </tr>\n",
       "    <tr>\n",
       "      <th>10</th>\n",
       "      <td>What We Learned Auditing Sophisticated AI for ...</td>\n",
       "      <td>{'type': 'text/plain', 'language': None, 'base...</td>\n",
       "      <td>[{'rel': 'alternate', 'type': 'text/html', 'hr...</td>\n",
       "      <td>https://www.oreilly.com/radar/what-we-learned-...</td>\n",
       "      <td>https://www.oreilly.com/radar/what-we-learned-...</td>\n",
       "      <td>Tue, 18 Oct 2022 11:14:23 +0000</td>\n",
       "      <td>(2022, 10, 18, 11, 14, 23, 1, 291, 0)</td>\n",
       "      <td>[{'name': 'Patrick Hall'}]</td>\n",
       "      <td>Patrick Hall</td>\n",
       "      <td>{'name': 'Patrick Hall'}</td>\n",
       "      <td>[{'term': 'AI &amp; ML', 'scheme': None, 'label': ...</td>\n",
       "      <td>https://www.oreilly.com/radar/?p=14754</td>\n",
       "      <td>False</td>\n",
       "      <td>A recently passed law in New York City require...</td>\n",
       "      <td>{'type': 'text/html', 'language': None, 'base'...</td>\n",
       "      <td>[{'type': 'text/html', 'language': None, 'base...</td>\n",
       "      <td>https://www.oreilly.com/radar/what-we-learned-...</td>\n",
       "      <td>0</td>\n",
       "    </tr>\n",
       "    <tr>\n",
       "      <th>11</th>\n",
       "      <td>The Collaborative Metaverse</td>\n",
       "      <td>{'type': 'text/plain', 'language': None, 'base...</td>\n",
       "      <td>[{'rel': 'alternate', 'type': 'text/html', 'hr...</td>\n",
       "      <td>https://www.oreilly.com/radar/the-collaborativ...</td>\n",
       "      <td>https://www.oreilly.com/radar/the-collaborativ...</td>\n",
       "      <td>Wed, 12 Oct 2022 20:01:45 +0000</td>\n",
       "      <td>(2022, 10, 12, 20, 1, 45, 2, 285, 0)</td>\n",
       "      <td>[{'name': 'Mike Loukides'}]</td>\n",
       "      <td>Mike Loukides</td>\n",
       "      <td>{'name': 'Mike Loukides'}</td>\n",
       "      <td>[{'term': 'Metaverse', 'scheme': None, 'label'...</td>\n",
       "      <td>https://www.oreilly.com/radar/?p=14750</td>\n",
       "      <td>False</td>\n",
       "      <td>We want to congratulate Dylan Field on his sta...</td>\n",
       "      <td>{'type': 'text/html', 'language': None, 'base'...</td>\n",
       "      <td>[{'type': 'text/html', 'language': None, 'base...</td>\n",
       "      <td>https://www.oreilly.com/radar/the-collaborativ...</td>\n",
       "      <td>0</td>\n",
       "    </tr>\n",
       "    <tr>\n",
       "      <th>12</th>\n",
       "      <td>What Is Hyperautomation?</td>\n",
       "      <td>{'type': 'text/plain', 'language': None, 'base...</td>\n",
       "      <td>[{'rel': 'alternate', 'type': 'text/html', 'hr...</td>\n",
       "      <td>https://www.oreilly.com/radar/what-is-hyperaut...</td>\n",
       "      <td>https://www.oreilly.com/radar/what-is-hyperaut...</td>\n",
       "      <td>Tue, 11 Oct 2022 10:59:21 +0000</td>\n",
       "      <td>(2022, 10, 11, 10, 59, 21, 1, 284, 0)</td>\n",
       "      <td>[{'name': 'Mike Loukides'}]</td>\n",
       "      <td>Mike Loukides</td>\n",
       "      <td>{'name': 'Mike Loukides'}</td>\n",
       "      <td>[{'term': 'AI &amp; ML', 'scheme': None, 'label': ...</td>\n",
       "      <td>https://www.oreilly.com/radar/?p=14733</td>\n",
       "      <td>False</td>\n",
       "      <td>Gartner has anointed “Hyperautomation” one of ...</td>\n",
       "      <td>{'type': 'text/html', 'language': None, 'base'...</td>\n",
       "      <td>[{'type': 'text/html', 'language': None, 'base...</td>\n",
       "      <td>https://www.oreilly.com/radar/what-is-hyperaut...</td>\n",
       "      <td>0</td>\n",
       "    </tr>\n",
       "    <tr>\n",
       "      <th>13</th>\n",
       "      <td>Radar Trends to Watch: October 2022</td>\n",
       "      <td>{'type': 'text/plain', 'language': None, 'base...</td>\n",
       "      <td>[{'rel': 'alternate', 'type': 'text/html', 'hr...</td>\n",
       "      <td>https://www.oreilly.com/radar/radar-trends-to-...</td>\n",
       "      <td>https://www.oreilly.com/radar/radar-trends-to-...</td>\n",
       "      <td>Tue, 04 Oct 2022 11:15:42 +0000</td>\n",
       "      <td>(2022, 10, 4, 11, 15, 42, 1, 277, 0)</td>\n",
       "      <td>[{'name': 'Mike Loukides'}]</td>\n",
       "      <td>Mike Loukides</td>\n",
       "      <td>{'name': 'Mike Loukides'}</td>\n",
       "      <td>[{'term': 'Radar Trends', 'scheme': None, 'lab...</td>\n",
       "      <td>https://www.oreilly.com/radar/?p=14726</td>\n",
       "      <td>False</td>\n",
       "      <td>September was a busy month. In addition to con...</td>\n",
       "      <td>{'type': 'text/html', 'language': None, 'base'...</td>\n",
       "      <td>[{'type': 'text/html', 'language': None, 'base...</td>\n",
       "      <td>https://www.oreilly.com/radar/radar-trends-to-...</td>\n",
       "      <td>0</td>\n",
       "    </tr>\n",
       "    <tr>\n",
       "      <th>14</th>\n",
       "      <td>The Problem with Intelligence</td>\n",
       "      <td>{'type': 'text/plain', 'language': None, 'base...</td>\n",
       "      <td>[{'rel': 'alternate', 'type': 'text/html', 'hr...</td>\n",
       "      <td>https://www.oreilly.com/radar/the-problem-with...</td>\n",
       "      <td>https://www.oreilly.com/radar/the-problem-with...</td>\n",
       "      <td>Tue, 13 Sep 2022 11:21:40 +0000</td>\n",
       "      <td>(2022, 9, 13, 11, 21, 40, 1, 256, 0)</td>\n",
       "      <td>[{'name': 'Mike Loukides'}]</td>\n",
       "      <td>Mike Loukides</td>\n",
       "      <td>{'name': 'Mike Loukides'}</td>\n",
       "      <td>[{'term': 'Artificial Intelligence', 'scheme':...</td>\n",
       "      <td>https://www.oreilly.com/radar/?p=14718</td>\n",
       "      <td>False</td>\n",
       "      <td>Projects like OpenAI’s DALL-E and DeepMind’s G...</td>\n",
       "      <td>{'type': 'text/html', 'language': None, 'base'...</td>\n",
       "      <td>[{'type': 'text/html', 'language': None, 'base...</td>\n",
       "      <td>https://www.oreilly.com/radar/the-problem-with...</td>\n",
       "      <td>0</td>\n",
       "    </tr>\n",
       "  </tbody>\n",
       "</table>\n",
       "</div>"
      ],
      "text/plain": [
       "                                                title  \\\n",
       "0   Automating the Automators: Shift Change in the...   \n",
       "1                                      Digesting 2022   \n",
       "2                 Radar Trends to Watch: January 2023   \n",
       "3    What Does Copyright Say about Generative Models?   \n",
       "4                Radar Trends to Watch: December 2022   \n",
       "5   AI’s ‘SolarWinds Moment’ Will Occur; It’s Just...   \n",
       "6                     Technical Health Isn’t Optional   \n",
       "7                                        Healthy Data   \n",
       "8                           Formal Informal Languages   \n",
       "9                Radar Trends to Watch: November 2022   \n",
       "10  What We Learned Auditing Sophisticated AI for ...   \n",
       "11                        The Collaborative Metaverse   \n",
       "12                           What Is Hyperautomation?   \n",
       "13                Radar Trends to Watch: October 2022   \n",
       "14                      The Problem with Intelligence   \n",
       "\n",
       "                                         title_detail  \\\n",
       "0   {'type': 'text/plain', 'language': None, 'base...   \n",
       "1   {'type': 'text/plain', 'language': None, 'base...   \n",
       "2   {'type': 'text/plain', 'language': None, 'base...   \n",
       "3   {'type': 'text/plain', 'language': None, 'base...   \n",
       "4   {'type': 'text/plain', 'language': None, 'base...   \n",
       "5   {'type': 'text/plain', 'language': None, 'base...   \n",
       "6   {'type': 'text/plain', 'language': None, 'base...   \n",
       "7   {'type': 'text/plain', 'language': None, 'base...   \n",
       "8   {'type': 'text/plain', 'language': None, 'base...   \n",
       "9   {'type': 'text/plain', 'language': None, 'base...   \n",
       "10  {'type': 'text/plain', 'language': None, 'base...   \n",
       "11  {'type': 'text/plain', 'language': None, 'base...   \n",
       "12  {'type': 'text/plain', 'language': None, 'base...   \n",
       "13  {'type': 'text/plain', 'language': None, 'base...   \n",
       "14  {'type': 'text/plain', 'language': None, 'base...   \n",
       "\n",
       "                                                links  \\\n",
       "0   [{'rel': 'alternate', 'type': 'text/html', 'hr...   \n",
       "1   [{'rel': 'alternate', 'type': 'text/html', 'hr...   \n",
       "2   [{'rel': 'alternate', 'type': 'text/html', 'hr...   \n",
       "3   [{'rel': 'alternate', 'type': 'text/html', 'hr...   \n",
       "4   [{'rel': 'alternate', 'type': 'text/html', 'hr...   \n",
       "5   [{'rel': 'alternate', 'type': 'text/html', 'hr...   \n",
       "6   [{'rel': 'alternate', 'type': 'text/html', 'hr...   \n",
       "7   [{'rel': 'alternate', 'type': 'text/html', 'hr...   \n",
       "8   [{'rel': 'alternate', 'type': 'text/html', 'hr...   \n",
       "9   [{'rel': 'alternate', 'type': 'text/html', 'hr...   \n",
       "10  [{'rel': 'alternate', 'type': 'text/html', 'hr...   \n",
       "11  [{'rel': 'alternate', 'type': 'text/html', 'hr...   \n",
       "12  [{'rel': 'alternate', 'type': 'text/html', 'hr...   \n",
       "13  [{'rel': 'alternate', 'type': 'text/html', 'hr...   \n",
       "14  [{'rel': 'alternate', 'type': 'text/html', 'hr...   \n",
       "\n",
       "                                                 link  \\\n",
       "0   https://www.oreilly.com/radar/automating-the-a...   \n",
       "1       https://www.oreilly.com/radar/digesting-2022/   \n",
       "2   https://www.oreilly.com/radar/radar-trends-to-...   \n",
       "3   https://www.oreilly.com/radar/what-does-copyri...   \n",
       "4   https://www.oreilly.com/radar/radar-trends-to-...   \n",
       "5   https://www.oreilly.com/radar/ais-solarwinds-m...   \n",
       "6   https://www.oreilly.com/radar/technical-health...   \n",
       "7         https://www.oreilly.com/radar/healthy-data/   \n",
       "8   https://www.oreilly.com/radar/formal-informal-...   \n",
       "9   https://www.oreilly.com/radar/radar-trends-to-...   \n",
       "10  https://www.oreilly.com/radar/what-we-learned-...   \n",
       "11  https://www.oreilly.com/radar/the-collaborativ...   \n",
       "12  https://www.oreilly.com/radar/what-is-hyperaut...   \n",
       "13  https://www.oreilly.com/radar/radar-trends-to-...   \n",
       "14  https://www.oreilly.com/radar/the-problem-with...   \n",
       "\n",
       "                                             comments  \\\n",
       "0   https://www.oreilly.com/radar/automating-the-a...   \n",
       "1   https://www.oreilly.com/radar/digesting-2022/#...   \n",
       "2   https://www.oreilly.com/radar/radar-trends-to-...   \n",
       "3   https://www.oreilly.com/radar/what-does-copyri...   \n",
       "4   https://www.oreilly.com/radar/radar-trends-to-...   \n",
       "5   https://www.oreilly.com/radar/ais-solarwinds-m...   \n",
       "6   https://www.oreilly.com/radar/technical-health...   \n",
       "7   https://www.oreilly.com/radar/healthy-data/#re...   \n",
       "8   https://www.oreilly.com/radar/formal-informal-...   \n",
       "9   https://www.oreilly.com/radar/radar-trends-to-...   \n",
       "10  https://www.oreilly.com/radar/what-we-learned-...   \n",
       "11  https://www.oreilly.com/radar/the-collaborativ...   \n",
       "12  https://www.oreilly.com/radar/what-is-hyperaut...   \n",
       "13  https://www.oreilly.com/radar/radar-trends-to-...   \n",
       "14  https://www.oreilly.com/radar/the-problem-with...   \n",
       "\n",
       "                          published                       published_parsed  \\\n",
       "0   Tue, 17 Jan 2023 11:33:31 +0000    (2023, 1, 17, 11, 33, 31, 1, 17, 0)   \n",
       "1   Tue, 10 Jan 2023 13:37:13 +0000    (2023, 1, 10, 13, 37, 13, 1, 10, 0)   \n",
       "2   Wed, 04 Jan 2023 11:53:08 +0000       (2023, 1, 4, 11, 53, 8, 2, 4, 0)   \n",
       "3   Tue, 13 Dec 2022 12:22:38 +0000  (2022, 12, 13, 12, 22, 38, 1, 347, 0)   \n",
       "4   Tue, 06 Dec 2022 12:21:48 +0000   (2022, 12, 6, 12, 21, 48, 1, 340, 0)   \n",
       "5   Tue, 29 Nov 2022 12:36:46 +0000  (2022, 11, 29, 12, 36, 46, 1, 333, 0)   \n",
       "6   Tue, 22 Nov 2022 12:25:18 +0000  (2022, 11, 22, 12, 25, 18, 1, 326, 0)   \n",
       "7   Tue, 15 Nov 2022 15:18:53 +0000  (2022, 11, 15, 15, 18, 53, 1, 319, 0)   \n",
       "8   Tue, 08 Nov 2022 11:58:09 +0000    (2022, 11, 8, 11, 58, 9, 1, 312, 0)   \n",
       "9   Tue, 01 Nov 2022 11:15:57 +0000   (2022, 11, 1, 11, 15, 57, 1, 305, 0)   \n",
       "10  Tue, 18 Oct 2022 11:14:23 +0000  (2022, 10, 18, 11, 14, 23, 1, 291, 0)   \n",
       "11  Wed, 12 Oct 2022 20:01:45 +0000   (2022, 10, 12, 20, 1, 45, 2, 285, 0)   \n",
       "12  Tue, 11 Oct 2022 10:59:21 +0000  (2022, 10, 11, 10, 59, 21, 1, 284, 0)   \n",
       "13  Tue, 04 Oct 2022 11:15:42 +0000   (2022, 10, 4, 11, 15, 42, 1, 277, 0)   \n",
       "14  Tue, 13 Sep 2022 11:21:40 +0000   (2022, 9, 13, 11, 21, 40, 1, 256, 0)   \n",
       "\n",
       "                        authors         author              author_detail  \\\n",
       "0      [{'name': 'Q McCallum'}]     Q McCallum     {'name': 'Q McCallum'}   \n",
       "1   [{'name': 'Mike Loukides'}]  Mike Loukides  {'name': 'Mike Loukides'}   \n",
       "2   [{'name': 'Mike Loukides'}]  Mike Loukides  {'name': 'Mike Loukides'}   \n",
       "3   [{'name': 'Mike Loukides'}]  Mike Loukides  {'name': 'Mike Loukides'}   \n",
       "4   [{'name': 'Mike Loukides'}]  Mike Loukides  {'name': 'Mike Loukides'}   \n",
       "5     [{'name': 'Mike Barlow'}]    Mike Barlow    {'name': 'Mike Barlow'}   \n",
       "6   [{'name': 'Mike Loukides'}]  Mike Loukides  {'name': 'Mike Loukides'}   \n",
       "7   [{'name': 'Mike Loukides'}]  Mike Loukides  {'name': 'Mike Loukides'}   \n",
       "8   [{'name': 'Mike Loukides'}]  Mike Loukides  {'name': 'Mike Loukides'}   \n",
       "9   [{'name': 'Mike Loukides'}]  Mike Loukides  {'name': 'Mike Loukides'}   \n",
       "10   [{'name': 'Patrick Hall'}]   Patrick Hall   {'name': 'Patrick Hall'}   \n",
       "11  [{'name': 'Mike Loukides'}]  Mike Loukides  {'name': 'Mike Loukides'}   \n",
       "12  [{'name': 'Mike Loukides'}]  Mike Loukides  {'name': 'Mike Loukides'}   \n",
       "13  [{'name': 'Mike Loukides'}]  Mike Loukides  {'name': 'Mike Loukides'}   \n",
       "14  [{'name': 'Mike Loukides'}]  Mike Loukides  {'name': 'Mike Loukides'}   \n",
       "\n",
       "                                                 tags  \\\n",
       "0   [{'term': 'AI & ML', 'scheme': None, 'label': ...   \n",
       "1   [{'term': 'AI & ML', 'scheme': None, 'label': ...   \n",
       "2   [{'term': 'Radar Trends', 'scheme': None, 'lab...   \n",
       "3   [{'term': 'Artificial Intelligence', 'scheme':...   \n",
       "4   [{'term': 'Radar Trends', 'scheme': None, 'lab...   \n",
       "5   [{'term': 'AI & ML', 'scheme': None, 'label': ...   \n",
       "6   [{'term': 'Open Source', 'scheme': None, 'labe...   \n",
       "7   [{'term': 'Data', 'scheme': None, 'label': Non...   \n",
       "8   [{'term': 'Programming', 'scheme': None, 'labe...   \n",
       "9   [{'term': 'Radar Trends', 'scheme': None, 'lab...   \n",
       "10  [{'term': 'AI & ML', 'scheme': None, 'label': ...   \n",
       "11  [{'term': 'Metaverse', 'scheme': None, 'label'...   \n",
       "12  [{'term': 'AI & ML', 'scheme': None, 'label': ...   \n",
       "13  [{'term': 'Radar Trends', 'scheme': None, 'lab...   \n",
       "14  [{'term': 'Artificial Intelligence', 'scheme':...   \n",
       "\n",
       "                                        id  guidislink  \\\n",
       "0   https://www.oreilly.com/radar/?p=14841       False   \n",
       "1   https://www.oreilly.com/radar/?p=14837       False   \n",
       "2   https://www.oreilly.com/radar/?p=14826       False   \n",
       "3   https://www.oreilly.com/radar/?p=14806       False   \n",
       "4   https://www.oreilly.com/radar/?p=14799       False   \n",
       "5   https://www.oreilly.com/radar/?p=14792       False   \n",
       "6   https://www.oreilly.com/radar/?p=14780       False   \n",
       "7   https://www.oreilly.com/radar/?p=14784       False   \n",
       "8   https://www.oreilly.com/radar/?p=14772       False   \n",
       "9   https://www.oreilly.com/radar/?p=14760       False   \n",
       "10  https://www.oreilly.com/radar/?p=14754       False   \n",
       "11  https://www.oreilly.com/radar/?p=14750       False   \n",
       "12  https://www.oreilly.com/radar/?p=14733       False   \n",
       "13  https://www.oreilly.com/radar/?p=14726       False   \n",
       "14  https://www.oreilly.com/radar/?p=14718       False   \n",
       "\n",
       "                                              summary  \\\n",
       "0   What would you say is the job of a software de...   \n",
       "1   Although I don’t subscribe to the idea that hi...   \n",
       "2   Perhaps unsurprisingly, December was a slow mo...   \n",
       "3   The current generation of flashy AI applicatio...   \n",
       "4   This month’s news has been overshadowed by the...   \n",
       "5   Major catastrophes can transform industries an...   \n",
       "6   If every company is a technology company, then...   \n",
       "7   This summer, we started asking about “technica...   \n",
       "8   We’ve all been impressed by the generative art...   \n",
       "9   Maintaining a separate category for AI is gett...   \n",
       "10  A recently passed law in New York City require...   \n",
       "11  We want to congratulate Dylan Field on his sta...   \n",
       "12  Gartner has anointed “Hyperautomation” one of ...   \n",
       "13  September was a busy month. In addition to con...   \n",
       "14  Projects like OpenAI’s DALL-E and DeepMind’s G...   \n",
       "\n",
       "                                       summary_detail  \\\n",
       "0   {'type': 'text/html', 'language': None, 'base'...   \n",
       "1   {'type': 'text/html', 'language': None, 'base'...   \n",
       "2   {'type': 'text/html', 'language': None, 'base'...   \n",
       "3   {'type': 'text/html', 'language': None, 'base'...   \n",
       "4   {'type': 'text/html', 'language': None, 'base'...   \n",
       "5   {'type': 'text/html', 'language': None, 'base'...   \n",
       "6   {'type': 'text/html', 'language': None, 'base'...   \n",
       "7   {'type': 'text/html', 'language': None, 'base'...   \n",
       "8   {'type': 'text/html', 'language': None, 'base'...   \n",
       "9   {'type': 'text/html', 'language': None, 'base'...   \n",
       "10  {'type': 'text/html', 'language': None, 'base'...   \n",
       "11  {'type': 'text/html', 'language': None, 'base'...   \n",
       "12  {'type': 'text/html', 'language': None, 'base'...   \n",
       "13  {'type': 'text/html', 'language': None, 'base'...   \n",
       "14  {'type': 'text/html', 'language': None, 'base'...   \n",
       "\n",
       "                                              content  \\\n",
       "0   [{'type': 'text/html', 'language': None, 'base...   \n",
       "1   [{'type': 'text/html', 'language': None, 'base...   \n",
       "2   [{'type': 'text/html', 'language': None, 'base...   \n",
       "3   [{'type': 'text/html', 'language': None, 'base...   \n",
       "4   [{'type': 'text/html', 'language': None, 'base...   \n",
       "5   [{'type': 'text/html', 'language': None, 'base...   \n",
       "6   [{'type': 'text/html', 'language': None, 'base...   \n",
       "7   [{'type': 'text/html', 'language': None, 'base...   \n",
       "8   [{'type': 'text/html', 'language': None, 'base...   \n",
       "9   [{'type': 'text/html', 'language': None, 'base...   \n",
       "10  [{'type': 'text/html', 'language': None, 'base...   \n",
       "11  [{'type': 'text/html', 'language': None, 'base...   \n",
       "12  [{'type': 'text/html', 'language': None, 'base...   \n",
       "13  [{'type': 'text/html', 'language': None, 'base...   \n",
       "14  [{'type': 'text/html', 'language': None, 'base...   \n",
       "\n",
       "                                       wfw_commentrss slash_comments  \n",
       "0   https://www.oreilly.com/radar/automating-the-a...              0  \n",
       "1   https://www.oreilly.com/radar/digesting-2022/f...              0  \n",
       "2   https://www.oreilly.com/radar/radar-trends-to-...              0  \n",
       "3   https://www.oreilly.com/radar/what-does-copyri...              0  \n",
       "4   https://www.oreilly.com/radar/radar-trends-to-...              0  \n",
       "5   https://www.oreilly.com/radar/ais-solarwinds-m...              0  \n",
       "6   https://www.oreilly.com/radar/technical-health...              0  \n",
       "7    https://www.oreilly.com/radar/healthy-data/feed/              0  \n",
       "8   https://www.oreilly.com/radar/formal-informal-...              0  \n",
       "9   https://www.oreilly.com/radar/radar-trends-to-...              0  \n",
       "10  https://www.oreilly.com/radar/what-we-learned-...              0  \n",
       "11  https://www.oreilly.com/radar/the-collaborativ...              0  \n",
       "12  https://www.oreilly.com/radar/what-is-hyperaut...              0  \n",
       "13  https://www.oreilly.com/radar/radar-trends-to-...              0  \n",
       "14  https://www.oreilly.com/radar/the-problem-with...              0  "
      ]
     },
     "execution_count": 32,
     "metadata": {},
     "output_type": "execute_result"
    }
   ],
   "source": [
    "df"
   ]
  },
  {
   "cell_type": "markdown",
   "metadata": {},
   "source": [
    "### 10. Count the number of entries per author and sort them in descending order."
   ]
  },
  {
   "cell_type": "code",
   "execution_count": 28,
   "metadata": {},
   "outputs": [
    {
     "name": "stdout",
     "output_type": "stream",
     "text": [
      "['Q McCallum', 'Mike Loukides', 'Mike Loukides', 'Mike Loukides', 'Mike Loukides', 'Mike Barlow', 'Mike Loukides', 'Mike Loukides', 'Mike Loukides', 'Mike Loukides', 'Patrick Hall', 'Mike Loukides', 'Mike Loukides', 'Mike Loukides', 'Mike Loukides']\n"
     ]
    }
   ],
   "source": [
    "authors = [item.author for item in burner.entries]\n",
    "print(authors)"
   ]
  },
  {
   "cell_type": "code",
   "execution_count": 29,
   "metadata": {},
   "outputs": [
    {
     "data": {
      "text/plain": [
       "15"
      ]
     },
     "execution_count": 29,
     "metadata": {},
     "output_type": "execute_result"
    }
   ],
   "source": [
    "len(authors)"
   ]
  },
  {
   "cell_type": "markdown",
   "metadata": {},
   "source": [
    "### 11. Add a new column to the data frame that contains the length (number of characters) of each entry title. Return a data frame that contains the title, author, and title length of each entry in descending order (longest title length at the top)."
   ]
  },
  {
   "cell_type": "code",
   "execution_count": 35,
   "metadata": {},
   "outputs": [],
   "source": [
    "df['title_length'] = df['title'].str.len()\n",
    "df = df.sort_values(by='title_length', ascending=False)\n",
    "df = df[['title', 'author', 'title_length']]\n",
    "\n"
   ]
  },
  {
   "cell_type": "code",
   "execution_count": 34,
   "metadata": {},
   "outputs": [
    {
     "data": {
      "text/html": [
       "<div>\n",
       "<style scoped>\n",
       "    .dataframe tbody tr th:only-of-type {\n",
       "        vertical-align: middle;\n",
       "    }\n",
       "\n",
       "    .dataframe tbody tr th {\n",
       "        vertical-align: top;\n",
       "    }\n",
       "\n",
       "    .dataframe thead th {\n",
       "        text-align: right;\n",
       "    }\n",
       "</style>\n",
       "<table border=\"1\" class=\"dataframe\">\n",
       "  <thead>\n",
       "    <tr style=\"text-align: right;\">\n",
       "      <th></th>\n",
       "      <th>title</th>\n",
       "      <th>author</th>\n",
       "      <th>title_length</th>\n",
       "    </tr>\n",
       "  </thead>\n",
       "  <tbody>\n",
       "    <tr>\n",
       "      <th>5</th>\n",
       "      <td>AI’s ‘SolarWinds Moment’ Will Occur; It’s Just...</td>\n",
       "      <td>Mike Barlow</td>\n",
       "      <td>63</td>\n",
       "    </tr>\n",
       "    <tr>\n",
       "      <th>0</th>\n",
       "      <td>Automating the Automators: Shift Change in the...</td>\n",
       "      <td>Q McCallum</td>\n",
       "      <td>60</td>\n",
       "    </tr>\n",
       "    <tr>\n",
       "      <th>10</th>\n",
       "      <td>What We Learned Auditing Sophisticated AI for ...</td>\n",
       "      <td>Patrick Hall</td>\n",
       "      <td>50</td>\n",
       "    </tr>\n",
       "    <tr>\n",
       "      <th>3</th>\n",
       "      <td>What Does Copyright Say about Generative Models?</td>\n",
       "      <td>Mike Loukides</td>\n",
       "      <td>48</td>\n",
       "    </tr>\n",
       "    <tr>\n",
       "      <th>4</th>\n",
       "      <td>Radar Trends to Watch: December 2022</td>\n",
       "      <td>Mike Loukides</td>\n",
       "      <td>36</td>\n",
       "    </tr>\n",
       "    <tr>\n",
       "      <th>9</th>\n",
       "      <td>Radar Trends to Watch: November 2022</td>\n",
       "      <td>Mike Loukides</td>\n",
       "      <td>36</td>\n",
       "    </tr>\n",
       "    <tr>\n",
       "      <th>2</th>\n",
       "      <td>Radar Trends to Watch: January 2023</td>\n",
       "      <td>Mike Loukides</td>\n",
       "      <td>35</td>\n",
       "    </tr>\n",
       "    <tr>\n",
       "      <th>13</th>\n",
       "      <td>Radar Trends to Watch: October 2022</td>\n",
       "      <td>Mike Loukides</td>\n",
       "      <td>35</td>\n",
       "    </tr>\n",
       "    <tr>\n",
       "      <th>6</th>\n",
       "      <td>Technical Health Isn’t Optional</td>\n",
       "      <td>Mike Loukides</td>\n",
       "      <td>31</td>\n",
       "    </tr>\n",
       "    <tr>\n",
       "      <th>14</th>\n",
       "      <td>The Problem with Intelligence</td>\n",
       "      <td>Mike Loukides</td>\n",
       "      <td>29</td>\n",
       "    </tr>\n",
       "    <tr>\n",
       "      <th>11</th>\n",
       "      <td>The Collaborative Metaverse</td>\n",
       "      <td>Mike Loukides</td>\n",
       "      <td>27</td>\n",
       "    </tr>\n",
       "    <tr>\n",
       "      <th>8</th>\n",
       "      <td>Formal Informal Languages</td>\n",
       "      <td>Mike Loukides</td>\n",
       "      <td>25</td>\n",
       "    </tr>\n",
       "    <tr>\n",
       "      <th>12</th>\n",
       "      <td>What Is Hyperautomation?</td>\n",
       "      <td>Mike Loukides</td>\n",
       "      <td>24</td>\n",
       "    </tr>\n",
       "    <tr>\n",
       "      <th>1</th>\n",
       "      <td>Digesting 2022</td>\n",
       "      <td>Mike Loukides</td>\n",
       "      <td>14</td>\n",
       "    </tr>\n",
       "    <tr>\n",
       "      <th>7</th>\n",
       "      <td>Healthy Data</td>\n",
       "      <td>Mike Loukides</td>\n",
       "      <td>12</td>\n",
       "    </tr>\n",
       "  </tbody>\n",
       "</table>\n",
       "</div>"
      ],
      "text/plain": [
       "                                                title         author  \\\n",
       "5   AI’s ‘SolarWinds Moment’ Will Occur; It’s Just...    Mike Barlow   \n",
       "0   Automating the Automators: Shift Change in the...     Q McCallum   \n",
       "10  What We Learned Auditing Sophisticated AI for ...   Patrick Hall   \n",
       "3    What Does Copyright Say about Generative Models?  Mike Loukides   \n",
       "4                Radar Trends to Watch: December 2022  Mike Loukides   \n",
       "9                Radar Trends to Watch: November 2022  Mike Loukides   \n",
       "2                 Radar Trends to Watch: January 2023  Mike Loukides   \n",
       "13                Radar Trends to Watch: October 2022  Mike Loukides   \n",
       "6                     Technical Health Isn’t Optional  Mike Loukides   \n",
       "14                      The Problem with Intelligence  Mike Loukides   \n",
       "11                        The Collaborative Metaverse  Mike Loukides   \n",
       "8                           Formal Informal Languages  Mike Loukides   \n",
       "12                           What Is Hyperautomation?  Mike Loukides   \n",
       "1                                      Digesting 2022  Mike Loukides   \n",
       "7                                        Healthy Data  Mike Loukides   \n",
       "\n",
       "    title_length  \n",
       "5             63  \n",
       "0             60  \n",
       "10            50  \n",
       "3             48  \n",
       "4             36  \n",
       "9             36  \n",
       "2             35  \n",
       "13            35  \n",
       "6             31  \n",
       "14            29  \n",
       "11            27  \n",
       "8             25  \n",
       "12            24  \n",
       "1             14  \n",
       "7             12  "
      ]
     },
     "execution_count": 34,
     "metadata": {},
     "output_type": "execute_result"
    }
   ],
   "source": [
    "df"
   ]
  },
  {
   "cell_type": "markdown",
   "metadata": {},
   "source": [
    "### 12. Create a list of entry titles whose summary includes the phrase \"machine learning.\""
   ]
  },
  {
   "cell_type": "code",
   "execution_count": 37,
   "metadata": {},
   "outputs": [
    {
     "name": "stdout",
     "output_type": "stream",
     "text": [
      "['Radar Trends to Watch: October 2022']\n"
     ]
    }
   ],
   "source": [
    "entry_titles = [item.title for item in burner.entries if \"machine learning\" in item.summary]\n",
    "print(entry_titles)\n"
   ]
  },
  {
   "cell_type": "code",
   "execution_count": null,
   "metadata": {},
   "outputs": [],
   "source": []
  }
 ],
 "metadata": {
  "kernelspec": {
   "display_name": "Python 3 (ipykernel)",
   "language": "python",
   "name": "python3"
  },
  "language_info": {
   "codemirror_mode": {
    "name": "ipython",
    "version": 3
   },
   "file_extension": ".py",
   "mimetype": "text/x-python",
   "name": "python",
   "nbconvert_exporter": "python",
   "pygments_lexer": "ipython3",
   "version": "3.9.13"
  }
 },
 "nbformat": 4,
 "nbformat_minor": 2
}
